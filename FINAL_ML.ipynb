{
 "cells": [
  {
   "cell_type": "markdown",
   "metadata": {},
   "source": [
    "# PRÁCTICA FINAL: MACHINE LEARNING"
   ]
  },
  {
   "cell_type": "markdown",
   "metadata": {},
   "source": [
    "**PARTICIPANTES**\n",
    "\n",
    "- David Joel Simbaña Fierro\n",
    "\n",
    "- Roberto Martínez Fernández\n",
    "\n",
    "- María Tornero Mateo"
   ]
  },
  {
   "cell_type": "markdown",
   "metadata": {},
   "source": [
    "\n",
    "\n",
    "# INTRODUCCIÓN"
   ]
  },
  {
   "cell_type": "markdown",
   "metadata": {},
   "source": [
    "Se tiene una base de datos de una aseguradora sobre los accidentes automovísticos ocurridos en Canadá entre 1999 y 2014. Los datos están recogidos de tal manera que cada observación hace referencia a una persona diferente que ha estado dentro del vehículo en el momento de la colisión. Por ejemplo, si en una colisión entre dos coches había cuatro personas en cada uno de ellos, ese accidente produce ocho observaciones distintas.\n",
    "\n",
    "En esta práctica, se han establecido los siguientes **objetivos**:\n",
    "- Indicar qué tipos de vehículos (así como su antigüedad) y de conductores son más y menos propensos a tener accidentes.\n",
    "- Encontrar un modelo de clasificación que permita predecir si en un accidente habrá fallecidos o no, así como hacer una correcta selección de características para ello.\n",
    "- Encontrar otro clasificador para predecir si la persona involucrada en el accidente requerirá tratamiento médico o no.\n",
    "- Establecer otras posibles relaciones con los accidentes, como el estado de la carretera o el clima en el momento del accidente.\n"
   ]
  },
  {
   "cell_type": "markdown",
   "metadata": {},
   "source": [
    "# ANÁLISIS EXPLORATORIO. ESTUDIO DE LAS VARIABLES"
   ]
  },
  {
   "cell_type": "markdown",
   "metadata": {},
   "source": [
    "Importamos las librerías necesarias y cargamos nuestro conjunto de datos."
   ]
  },
  {
   "cell_type": "code",
   "execution_count": 1,
   "metadata": {},
   "outputs": [],
   "source": [
    "import pandas as pd\n",
    "import numpy as np\n",
    "import seaborn as sns                       \n",
    "import matplotlib.pyplot as plt   \n",
    "from scipy import stats          \n",
    "%matplotlib inline     \n",
    "sns.set(color_codes=True)"
   ]
  },
  {
   "cell_type": "code",
   "execution_count": 2,
   "metadata": {},
   "outputs": [
    {
     "name": "stderr",
     "output_type": "stream",
     "text": [
      "C:\\Users\\mariq\\AppData\\Local\\Temp\\ipykernel_35528\\271698340.py:1: DtypeWarning: Columns (1,2,5,12) have mixed types. Specify dtype option on import or set low_memory=False.\n",
      "  df = pd.read_csv('NCDB_1999_to_2014.csv')\n"
     ]
    },
    {
     "data": {
      "text/html": [
       "<div>\n",
       "<style scoped>\n",
       "    .dataframe tbody tr th:only-of-type {\n",
       "        vertical-align: middle;\n",
       "    }\n",
       "\n",
       "    .dataframe tbody tr th {\n",
       "        vertical-align: top;\n",
       "    }\n",
       "\n",
       "    .dataframe thead th {\n",
       "        text-align: right;\n",
       "    }\n",
       "</style>\n",
       "<table border=\"1\" class=\"dataframe\">\n",
       "  <thead>\n",
       "    <tr style=\"text-align: right;\">\n",
       "      <th></th>\n",
       "      <th>0</th>\n",
       "      <th>1</th>\n",
       "      <th>2</th>\n",
       "      <th>3</th>\n",
       "      <th>4</th>\n",
       "    </tr>\n",
       "  </thead>\n",
       "  <tbody>\n",
       "    <tr>\n",
       "      <th>C_YEAR</th>\n",
       "      <td>1999</td>\n",
       "      <td>1999</td>\n",
       "      <td>1999</td>\n",
       "      <td>1999</td>\n",
       "      <td>1999</td>\n",
       "    </tr>\n",
       "    <tr>\n",
       "      <th>C_MNTH</th>\n",
       "      <td>1</td>\n",
       "      <td>1</td>\n",
       "      <td>1</td>\n",
       "      <td>1</td>\n",
       "      <td>1</td>\n",
       "    </tr>\n",
       "    <tr>\n",
       "      <th>C_WDAY</th>\n",
       "      <td>1</td>\n",
       "      <td>1</td>\n",
       "      <td>1</td>\n",
       "      <td>1</td>\n",
       "      <td>1</td>\n",
       "    </tr>\n",
       "    <tr>\n",
       "      <th>C_HOUR</th>\n",
       "      <td>20</td>\n",
       "      <td>20</td>\n",
       "      <td>20</td>\n",
       "      <td>08</td>\n",
       "      <td>08</td>\n",
       "    </tr>\n",
       "    <tr>\n",
       "      <th>C_SEV</th>\n",
       "      <td>2</td>\n",
       "      <td>2</td>\n",
       "      <td>2</td>\n",
       "      <td>2</td>\n",
       "      <td>2</td>\n",
       "    </tr>\n",
       "    <tr>\n",
       "      <th>C_VEHS</th>\n",
       "      <td>02</td>\n",
       "      <td>02</td>\n",
       "      <td>02</td>\n",
       "      <td>01</td>\n",
       "      <td>01</td>\n",
       "    </tr>\n",
       "    <tr>\n",
       "      <th>C_CONF</th>\n",
       "      <td>34</td>\n",
       "      <td>34</td>\n",
       "      <td>34</td>\n",
       "      <td>01</td>\n",
       "      <td>01</td>\n",
       "    </tr>\n",
       "    <tr>\n",
       "      <th>C_RCFG</th>\n",
       "      <td>UU</td>\n",
       "      <td>UU</td>\n",
       "      <td>UU</td>\n",
       "      <td>UU</td>\n",
       "      <td>UU</td>\n",
       "    </tr>\n",
       "    <tr>\n",
       "      <th>C_WTHR</th>\n",
       "      <td>1</td>\n",
       "      <td>1</td>\n",
       "      <td>1</td>\n",
       "      <td>5</td>\n",
       "      <td>5</td>\n",
       "    </tr>\n",
       "    <tr>\n",
       "      <th>C_RSUR</th>\n",
       "      <td>5</td>\n",
       "      <td>5</td>\n",
       "      <td>5</td>\n",
       "      <td>3</td>\n",
       "      <td>3</td>\n",
       "    </tr>\n",
       "    <tr>\n",
       "      <th>C_RALN</th>\n",
       "      <td>3</td>\n",
       "      <td>3</td>\n",
       "      <td>3</td>\n",
       "      <td>6</td>\n",
       "      <td>6</td>\n",
       "    </tr>\n",
       "    <tr>\n",
       "      <th>C_TRAF</th>\n",
       "      <td>03</td>\n",
       "      <td>03</td>\n",
       "      <td>03</td>\n",
       "      <td>18</td>\n",
       "      <td>18</td>\n",
       "    </tr>\n",
       "    <tr>\n",
       "      <th>V_ID</th>\n",
       "      <td>01</td>\n",
       "      <td>02</td>\n",
       "      <td>02</td>\n",
       "      <td>01</td>\n",
       "      <td>99</td>\n",
       "    </tr>\n",
       "    <tr>\n",
       "      <th>V_TYPE</th>\n",
       "      <td>06</td>\n",
       "      <td>01</td>\n",
       "      <td>01</td>\n",
       "      <td>01</td>\n",
       "      <td>NN</td>\n",
       "    </tr>\n",
       "    <tr>\n",
       "      <th>V_YEAR</th>\n",
       "      <td>1990</td>\n",
       "      <td>1987</td>\n",
       "      <td>1987</td>\n",
       "      <td>1986</td>\n",
       "      <td>NNNN</td>\n",
       "    </tr>\n",
       "    <tr>\n",
       "      <th>P_ID</th>\n",
       "      <td>01</td>\n",
       "      <td>01</td>\n",
       "      <td>02</td>\n",
       "      <td>01</td>\n",
       "      <td>01</td>\n",
       "    </tr>\n",
       "    <tr>\n",
       "      <th>P_SEX</th>\n",
       "      <td>M</td>\n",
       "      <td>M</td>\n",
       "      <td>F</td>\n",
       "      <td>M</td>\n",
       "      <td>M</td>\n",
       "    </tr>\n",
       "    <tr>\n",
       "      <th>P_AGE</th>\n",
       "      <td>41</td>\n",
       "      <td>19</td>\n",
       "      <td>20</td>\n",
       "      <td>46</td>\n",
       "      <td>05</td>\n",
       "    </tr>\n",
       "    <tr>\n",
       "      <th>P_PSN</th>\n",
       "      <td>11</td>\n",
       "      <td>11</td>\n",
       "      <td>13</td>\n",
       "      <td>11</td>\n",
       "      <td>99</td>\n",
       "    </tr>\n",
       "    <tr>\n",
       "      <th>P_ISEV</th>\n",
       "      <td>1</td>\n",
       "      <td>1</td>\n",
       "      <td>2</td>\n",
       "      <td>1</td>\n",
       "      <td>2</td>\n",
       "    </tr>\n",
       "    <tr>\n",
       "      <th>P_SAFE</th>\n",
       "      <td>UU</td>\n",
       "      <td>UU</td>\n",
       "      <td>02</td>\n",
       "      <td>UU</td>\n",
       "      <td>UU</td>\n",
       "    </tr>\n",
       "    <tr>\n",
       "      <th>P_USER</th>\n",
       "      <td>1</td>\n",
       "      <td>1</td>\n",
       "      <td>2</td>\n",
       "      <td>1</td>\n",
       "      <td>3</td>\n",
       "    </tr>\n",
       "  </tbody>\n",
       "</table>\n",
       "</div>"
      ],
      "text/plain": [
       "           0     1     2     3     4\n",
       "C_YEAR  1999  1999  1999  1999  1999\n",
       "C_MNTH     1     1     1     1     1\n",
       "C_WDAY     1     1     1     1     1\n",
       "C_HOUR    20    20    20    08    08\n",
       "C_SEV      2     2     2     2     2\n",
       "C_VEHS    02    02    02    01    01\n",
       "C_CONF    34    34    34    01    01\n",
       "C_RCFG    UU    UU    UU    UU    UU\n",
       "C_WTHR     1     1     1     5     5\n",
       "C_RSUR     5     5     5     3     3\n",
       "C_RALN     3     3     3     6     6\n",
       "C_TRAF    03    03    03    18    18\n",
       "V_ID      01    02    02    01    99\n",
       "V_TYPE    06    01    01    01    NN\n",
       "V_YEAR  1990  1987  1987  1986  NNNN\n",
       "P_ID      01    01    02    01    01\n",
       "P_SEX      M     M     F     M     M\n",
       "P_AGE     41    19    20    46    05\n",
       "P_PSN     11    11    13    11    99\n",
       "P_ISEV     1     1     2     1     2\n",
       "P_SAFE    UU    UU    02    UU    UU\n",
       "P_USER     1     1     2     1     3"
      ]
     },
     "execution_count": 2,
     "metadata": {},
     "output_type": "execute_result"
    }
   ],
   "source": [
    "df = pd.read_csv('NCDB_1999_to_2014.csv')\n",
    "df.head().T"
   ]
  },
  {
   "cell_type": "markdown",
   "metadata": {},
   "source": [
    "Ahora veamos el tipo de variables que tenemos y la cantidad de observaciones disponibles."
   ]
  },
  {
   "cell_type": "code",
   "execution_count": 3,
   "metadata": {
    "scrolled": true
   },
   "outputs": [
    {
     "name": "stdout",
     "output_type": "stream",
     "text": [
      "<class 'pandas.core.frame.DataFrame'>\n",
      "RangeIndex: 5860405 entries, 0 to 5860404\n",
      "Data columns (total 22 columns):\n",
      " #   Column  Dtype \n",
      "---  ------  ----- \n",
      " 0   C_YEAR  int64 \n",
      " 1   C_MNTH  object\n",
      " 2   C_WDAY  object\n",
      " 3   C_HOUR  object\n",
      " 4   C_SEV   int64 \n",
      " 5   C_VEHS  object\n",
      " 6   C_CONF  object\n",
      " 7   C_RCFG  object\n",
      " 8   C_WTHR  object\n",
      " 9   C_RSUR  object\n",
      " 10  C_RALN  object\n",
      " 11  C_TRAF  object\n",
      " 12  V_ID    object\n",
      " 13  V_TYPE  object\n",
      " 14  V_YEAR  object\n",
      " 15  P_ID    object\n",
      " 16  P_SEX   object\n",
      " 17  P_AGE   object\n",
      " 18  P_PSN   object\n",
      " 19  P_ISEV  object\n",
      " 20  P_SAFE  object\n",
      " 21  P_USER  object\n",
      "dtypes: int64(2), object(20)\n",
      "memory usage: 983.6+ MB\n"
     ]
    }
   ],
   "source": [
    "df.info()"
   ]
  },
  {
   "cell_type": "markdown",
   "metadata": {},
   "source": [
    "**¿Hay duplicados?**\n",
    "\n",
    "Veámoslo. En caso afirmativo los eliminaremos."
   ]
  },
  {
   "cell_type": "code",
   "execution_count": 4,
   "metadata": {},
   "outputs": [
    {
     "data": {
      "text/plain": [
       "5069"
      ]
     },
     "execution_count": 4,
     "metadata": {},
     "output_type": "execute_result"
    }
   ],
   "source": [
    "df.duplicated().sum() "
   ]
  },
  {
   "cell_type": "code",
   "execution_count": 5,
   "metadata": {
    "scrolled": true
   },
   "outputs": [
    {
     "data": {
      "text/plain": [
       "0"
      ]
     },
     "execution_count": 5,
     "metadata": {},
     "output_type": "execute_result"
    }
   ],
   "source": [
    "df=df.drop_duplicates()\n",
    "df.duplicated().sum()"
   ]
  },
  {
   "cell_type": "markdown",
   "metadata": {},
   "source": [
    "**Valores desconocidos:**\n",
    "\n",
    "\n",
    "Hemos observado que las variables pueden tomar valores que nos dan la misma información que nos daría un valor missing. Estos valores son 'desconocido', 'no se puede facilitar esta información',etc. Por ello, eliminaremos las observaciones que tengan estos valores en alguna de sus variables.\n",
    "\n",
    "Para eliminarlos, primero los convertiremos en missings y después eliminaremos estos missings."
   ]
  },
  {
   "cell_type": "code",
   "execution_count": 6,
   "metadata": {},
   "outputs": [],
   "source": [
    "def eliminar_observaciones(df):\n",
    "    valores_a_eliminar = ['U', 'X', 'UU','N','NN','NNNN','UUUU','XX','XXXX', 'Q', 'QQ']\n",
    "    df = df[~df.isin(valores_a_eliminar)]\n",
    "    return df"
   ]
  },
  {
   "cell_type": "code",
   "execution_count": 7,
   "metadata": {},
   "outputs": [
    {
     "data": {
      "text/html": [
       "<div>\n",
       "<style scoped>\n",
       "    .dataframe tbody tr th:only-of-type {\n",
       "        vertical-align: middle;\n",
       "    }\n",
       "\n",
       "    .dataframe tbody tr th {\n",
       "        vertical-align: top;\n",
       "    }\n",
       "\n",
       "    .dataframe thead th {\n",
       "        text-align: right;\n",
       "    }\n",
       "</style>\n",
       "<table border=\"1\" class=\"dataframe\">\n",
       "  <thead>\n",
       "    <tr style=\"text-align: right;\">\n",
       "      <th></th>\n",
       "      <th>C_YEAR</th>\n",
       "      <th>C_MNTH</th>\n",
       "      <th>C_WDAY</th>\n",
       "      <th>C_HOUR</th>\n",
       "      <th>C_SEV</th>\n",
       "      <th>C_VEHS</th>\n",
       "      <th>C_CONF</th>\n",
       "      <th>C_RCFG</th>\n",
       "      <th>C_WTHR</th>\n",
       "      <th>C_RSUR</th>\n",
       "      <th>...</th>\n",
       "      <th>V_ID</th>\n",
       "      <th>V_TYPE</th>\n",
       "      <th>V_YEAR</th>\n",
       "      <th>P_ID</th>\n",
       "      <th>P_SEX</th>\n",
       "      <th>P_AGE</th>\n",
       "      <th>P_PSN</th>\n",
       "      <th>P_ISEV</th>\n",
       "      <th>P_SAFE</th>\n",
       "      <th>P_USER</th>\n",
       "    </tr>\n",
       "  </thead>\n",
       "  <tbody>\n",
       "    <tr>\n",
       "      <th>0</th>\n",
       "      <td>1999</td>\n",
       "      <td>1</td>\n",
       "      <td>1</td>\n",
       "      <td>20</td>\n",
       "      <td>2</td>\n",
       "      <td>02</td>\n",
       "      <td>34</td>\n",
       "      <td>NaN</td>\n",
       "      <td>1</td>\n",
       "      <td>5</td>\n",
       "      <td>...</td>\n",
       "      <td>01</td>\n",
       "      <td>06</td>\n",
       "      <td>1990</td>\n",
       "      <td>01</td>\n",
       "      <td>M</td>\n",
       "      <td>41</td>\n",
       "      <td>11</td>\n",
       "      <td>1</td>\n",
       "      <td>NaN</td>\n",
       "      <td>1</td>\n",
       "    </tr>\n",
       "    <tr>\n",
       "      <th>1</th>\n",
       "      <td>1999</td>\n",
       "      <td>1</td>\n",
       "      <td>1</td>\n",
       "      <td>20</td>\n",
       "      <td>2</td>\n",
       "      <td>02</td>\n",
       "      <td>34</td>\n",
       "      <td>NaN</td>\n",
       "      <td>1</td>\n",
       "      <td>5</td>\n",
       "      <td>...</td>\n",
       "      <td>02</td>\n",
       "      <td>01</td>\n",
       "      <td>1987</td>\n",
       "      <td>01</td>\n",
       "      <td>M</td>\n",
       "      <td>19</td>\n",
       "      <td>11</td>\n",
       "      <td>1</td>\n",
       "      <td>NaN</td>\n",
       "      <td>1</td>\n",
       "    </tr>\n",
       "    <tr>\n",
       "      <th>2</th>\n",
       "      <td>1999</td>\n",
       "      <td>1</td>\n",
       "      <td>1</td>\n",
       "      <td>20</td>\n",
       "      <td>2</td>\n",
       "      <td>02</td>\n",
       "      <td>34</td>\n",
       "      <td>NaN</td>\n",
       "      <td>1</td>\n",
       "      <td>5</td>\n",
       "      <td>...</td>\n",
       "      <td>02</td>\n",
       "      <td>01</td>\n",
       "      <td>1987</td>\n",
       "      <td>02</td>\n",
       "      <td>F</td>\n",
       "      <td>20</td>\n",
       "      <td>13</td>\n",
       "      <td>2</td>\n",
       "      <td>02</td>\n",
       "      <td>2</td>\n",
       "    </tr>\n",
       "    <tr>\n",
       "      <th>3</th>\n",
       "      <td>1999</td>\n",
       "      <td>1</td>\n",
       "      <td>1</td>\n",
       "      <td>08</td>\n",
       "      <td>2</td>\n",
       "      <td>01</td>\n",
       "      <td>01</td>\n",
       "      <td>NaN</td>\n",
       "      <td>5</td>\n",
       "      <td>3</td>\n",
       "      <td>...</td>\n",
       "      <td>01</td>\n",
       "      <td>01</td>\n",
       "      <td>1986</td>\n",
       "      <td>01</td>\n",
       "      <td>M</td>\n",
       "      <td>46</td>\n",
       "      <td>11</td>\n",
       "      <td>1</td>\n",
       "      <td>NaN</td>\n",
       "      <td>1</td>\n",
       "    </tr>\n",
       "    <tr>\n",
       "      <th>4</th>\n",
       "      <td>1999</td>\n",
       "      <td>1</td>\n",
       "      <td>1</td>\n",
       "      <td>08</td>\n",
       "      <td>2</td>\n",
       "      <td>01</td>\n",
       "      <td>01</td>\n",
       "      <td>NaN</td>\n",
       "      <td>5</td>\n",
       "      <td>3</td>\n",
       "      <td>...</td>\n",
       "      <td>99</td>\n",
       "      <td>NaN</td>\n",
       "      <td>NaN</td>\n",
       "      <td>01</td>\n",
       "      <td>M</td>\n",
       "      <td>05</td>\n",
       "      <td>99</td>\n",
       "      <td>2</td>\n",
       "      <td>NaN</td>\n",
       "      <td>3</td>\n",
       "    </tr>\n",
       "    <tr>\n",
       "      <th>5</th>\n",
       "      <td>1999</td>\n",
       "      <td>1</td>\n",
       "      <td>1</td>\n",
       "      <td>17</td>\n",
       "      <td>2</td>\n",
       "      <td>03</td>\n",
       "      <td>NaN</td>\n",
       "      <td>NaN</td>\n",
       "      <td>1</td>\n",
       "      <td>2</td>\n",
       "      <td>...</td>\n",
       "      <td>01</td>\n",
       "      <td>01</td>\n",
       "      <td>1984</td>\n",
       "      <td>01</td>\n",
       "      <td>M</td>\n",
       "      <td>28</td>\n",
       "      <td>11</td>\n",
       "      <td>1</td>\n",
       "      <td>NaN</td>\n",
       "      <td>1</td>\n",
       "    </tr>\n",
       "    <tr>\n",
       "      <th>6</th>\n",
       "      <td>1999</td>\n",
       "      <td>1</td>\n",
       "      <td>1</td>\n",
       "      <td>17</td>\n",
       "      <td>2</td>\n",
       "      <td>03</td>\n",
       "      <td>NaN</td>\n",
       "      <td>NaN</td>\n",
       "      <td>1</td>\n",
       "      <td>2</td>\n",
       "      <td>...</td>\n",
       "      <td>02</td>\n",
       "      <td>01</td>\n",
       "      <td>1991</td>\n",
       "      <td>01</td>\n",
       "      <td>M</td>\n",
       "      <td>21</td>\n",
       "      <td>11</td>\n",
       "      <td>1</td>\n",
       "      <td>NaN</td>\n",
       "      <td>1</td>\n",
       "    </tr>\n",
       "    <tr>\n",
       "      <th>7</th>\n",
       "      <td>1999</td>\n",
       "      <td>1</td>\n",
       "      <td>1</td>\n",
       "      <td>17</td>\n",
       "      <td>2</td>\n",
       "      <td>03</td>\n",
       "      <td>NaN</td>\n",
       "      <td>NaN</td>\n",
       "      <td>1</td>\n",
       "      <td>2</td>\n",
       "      <td>...</td>\n",
       "      <td>02</td>\n",
       "      <td>01</td>\n",
       "      <td>1991</td>\n",
       "      <td>02</td>\n",
       "      <td>F</td>\n",
       "      <td>NaN</td>\n",
       "      <td>13</td>\n",
       "      <td>2</td>\n",
       "      <td>NaN</td>\n",
       "      <td>2</td>\n",
       "    </tr>\n",
       "    <tr>\n",
       "      <th>8</th>\n",
       "      <td>1999</td>\n",
       "      <td>1</td>\n",
       "      <td>1</td>\n",
       "      <td>17</td>\n",
       "      <td>2</td>\n",
       "      <td>03</td>\n",
       "      <td>NaN</td>\n",
       "      <td>NaN</td>\n",
       "      <td>1</td>\n",
       "      <td>2</td>\n",
       "      <td>...</td>\n",
       "      <td>03</td>\n",
       "      <td>01</td>\n",
       "      <td>1992</td>\n",
       "      <td>01</td>\n",
       "      <td>M</td>\n",
       "      <td>NaN</td>\n",
       "      <td>11</td>\n",
       "      <td>2</td>\n",
       "      <td>NaN</td>\n",
       "      <td>1</td>\n",
       "    </tr>\n",
       "    <tr>\n",
       "      <th>9</th>\n",
       "      <td>1999</td>\n",
       "      <td>1</td>\n",
       "      <td>1</td>\n",
       "      <td>15</td>\n",
       "      <td>2</td>\n",
       "      <td>01</td>\n",
       "      <td>04</td>\n",
       "      <td>NaN</td>\n",
       "      <td>1</td>\n",
       "      <td>5</td>\n",
       "      <td>...</td>\n",
       "      <td>01</td>\n",
       "      <td>01</td>\n",
       "      <td>1997</td>\n",
       "      <td>01</td>\n",
       "      <td>M</td>\n",
       "      <td>61</td>\n",
       "      <td>11</td>\n",
       "      <td>1</td>\n",
       "      <td>NaN</td>\n",
       "      <td>1</td>\n",
       "    </tr>\n",
       "  </tbody>\n",
       "</table>\n",
       "<p>10 rows × 22 columns</p>\n",
       "</div>"
      ],
      "text/plain": [
       "   C_YEAR C_MNTH C_WDAY C_HOUR  C_SEV C_VEHS C_CONF C_RCFG C_WTHR C_RSUR  ...  \\\n",
       "0    1999      1      1     20      2     02     34    NaN      1      5  ...   \n",
       "1    1999      1      1     20      2     02     34    NaN      1      5  ...   \n",
       "2    1999      1      1     20      2     02     34    NaN      1      5  ...   \n",
       "3    1999      1      1     08      2     01     01    NaN      5      3  ...   \n",
       "4    1999      1      1     08      2     01     01    NaN      5      3  ...   \n",
       "5    1999      1      1     17      2     03    NaN    NaN      1      2  ...   \n",
       "6    1999      1      1     17      2     03    NaN    NaN      1      2  ...   \n",
       "7    1999      1      1     17      2     03    NaN    NaN      1      2  ...   \n",
       "8    1999      1      1     17      2     03    NaN    NaN      1      2  ...   \n",
       "9    1999      1      1     15      2     01     04    NaN      1      5  ...   \n",
       "\n",
       "  V_ID V_TYPE V_YEAR P_ID P_SEX P_AGE P_PSN P_ISEV P_SAFE P_USER  \n",
       "0   01     06   1990   01     M    41    11      1    NaN      1  \n",
       "1   02     01   1987   01     M    19    11      1    NaN      1  \n",
       "2   02     01   1987   02     F    20    13      2     02      2  \n",
       "3   01     01   1986   01     M    46    11      1    NaN      1  \n",
       "4   99    NaN    NaN   01     M    05    99      2    NaN      3  \n",
       "5   01     01   1984   01     M    28    11      1    NaN      1  \n",
       "6   02     01   1991   01     M    21    11      1    NaN      1  \n",
       "7   02     01   1991   02     F   NaN    13      2    NaN      2  \n",
       "8   03     01   1992   01     M   NaN    11      2    NaN      1  \n",
       "9   01     01   1997   01     M    61    11      1    NaN      1  \n",
       "\n",
       "[10 rows x 22 columns]"
      ]
     },
     "execution_count": 7,
     "metadata": {},
     "output_type": "execute_result"
    }
   ],
   "source": [
    "df = eliminar_observaciones(df)\n",
    "df.head(10)"
   ]
  },
  {
   "cell_type": "code",
   "execution_count": 8,
   "metadata": {},
   "outputs": [
    {
     "name": "stdout",
     "output_type": "stream",
     "text": [
      "P_SAFE    21.057596\n",
      "C_RCFG    11.080833\n",
      "V_YEAR     9.959770\n",
      "C_CONF     7.919733\n",
      "C_RALN     7.911126\n",
      "P_AGE      6.732918\n",
      "P_ISEV     6.341105\n",
      "C_TRAF     5.216763\n",
      "V_TYPE     4.827494\n",
      "P_SEX      4.254769\n",
      "C_RSUR     4.246195\n",
      "P_USER     2.996498\n",
      "C_WTHR     1.758447\n",
      "P_PSN      1.667488\n",
      "C_HOUR     1.014528\n",
      "P_ID       0.187641\n",
      "C_WDAY     0.022595\n",
      "C_VEHS     0.009291\n",
      "V_ID       0.007395\n",
      "C_MNTH     0.006575\n",
      "C_SEV      0.000000\n",
      "C_YEAR     0.000000\n",
      "dtype: float64\n"
     ]
    }
   ],
   "source": [
    "na_ratio = ((df.isnull().sum() / len(df))*100).sort_values(ascending = False)\n",
    "print(na_ratio)"
   ]
  },
  {
   "cell_type": "markdown",
   "metadata": {},
   "source": [
    "**Eliminamos los missings**:\n",
    "\n",
    "Debido al conjunto de datos tan grande que tenemos (alrededor de 5.000.000 de observaciones) eliminaremos las observaciones que tengan al menos un missing en sus variables para reducir tanto el coste computacional, como el tiempo de ejecucción. "
   ]
  },
  {
   "cell_type": "code",
   "execution_count": 9,
   "metadata": {},
   "outputs": [
    {
     "name": "stdout",
     "output_type": "stream",
     "text": [
      "<class 'pandas.core.frame.DataFrame'>\n",
      "Int64Index: 3292291 entries, 52 to 5860380\n",
      "Data columns (total 22 columns):\n",
      " #   Column  Dtype \n",
      "---  ------  ----- \n",
      " 0   C_YEAR  int64 \n",
      " 1   C_MNTH  object\n",
      " 2   C_WDAY  object\n",
      " 3   C_HOUR  object\n",
      " 4   C_SEV   int64 \n",
      " 5   C_VEHS  object\n",
      " 6   C_CONF  object\n",
      " 7   C_RCFG  object\n",
      " 8   C_WTHR  object\n",
      " 9   C_RSUR  object\n",
      " 10  C_RALN  object\n",
      " 11  C_TRAF  object\n",
      " 12  V_ID    object\n",
      " 13  V_TYPE  object\n",
      " 14  V_YEAR  object\n",
      " 15  P_ID    object\n",
      " 16  P_SEX   object\n",
      " 17  P_AGE   object\n",
      " 18  P_PSN   object\n",
      " 19  P_ISEV  object\n",
      " 20  P_SAFE  object\n",
      " 21  P_USER  object\n",
      "dtypes: int64(2), object(20)\n",
      "memory usage: 577.7+ MB\n"
     ]
    }
   ],
   "source": [
    "df = df.dropna(axis=0)\n",
    "df.info()"
   ]
  },
  {
   "cell_type": "markdown",
   "metadata": {},
   "source": [
    "Convertimos la variable P_SEX, que nos indica el género del pasajero, en una variable que tomará los valores 0 (si es mujer), y 1 (si es hombre)"
   ]
  },
  {
   "cell_type": "code",
   "execution_count": 10,
   "metadata": {
    "scrolled": true
   },
   "outputs": [
    {
     "data": {
      "text/plain": [
       "1    1774778\n",
       "0    1517513\n",
       "Name: P_SEX, dtype: int64"
      ]
     },
     "execution_count": 10,
     "metadata": {},
     "output_type": "execute_result"
    }
   ],
   "source": [
    "from sklearn.preprocessing import LabelEncoder\n",
    "\n",
    "le = LabelEncoder()\n",
    "df[\"P_SEX\"] = le.fit_transform(df[\"P_SEX\"])\n",
    "df['P_SEX'].value_counts()"
   ]
  },
  {
   "cell_type": "markdown",
   "metadata": {},
   "source": [
    "**Convertimos las columnas a tipo float**\n",
    "\n",
    "Para poder analizar bien los datos y ejecutar posterioirmente los algoritmos, convertimos las variables numéricas (que ahora son variables object), en variables que toman valores de números reales. \n",
    "\n",
    "Además, creamos la variable C_DATE, que nos indicará la fecha de la colisión. Hay que tener en cuenta que la variable C_WDA y, que indica el día de la semana que tuvo lugar el accidente, toma valores del 1 al 7 (lunes a domingo), con lo cuál no va a ser un formato de fecha usual (ya que no abarcamos del día 1 hasta el 28/30/31 que tiene un mes."
   ]
  },
  {
   "cell_type": "code",
   "execution_count": 11,
   "metadata": {},
   "outputs": [],
   "source": [
    "col_float=['C_SEV', 'C_VEHS','C_CONF', 'C_RCFG' ,'C_WTHR','C_RSUR','C_RALN',\n",
    "           'C_TRAF','V_ID','V_TYPE','V_YEAR','P_ID','P_SEX','P_AGE','P_PSN','P_ISEV','P_SAFE','P_USER' ]\n",
    "col_str=['C_YEAR' ,'C_MNTH','C_WDAY','C_HOUR']\n",
    "df[col_float] = df[col_float].astype(float)\n",
    "df[col_str]= df[col_str].astype(str)"
   ]
  },
  {
   "cell_type": "code",
   "execution_count": 12,
   "metadata": {},
   "outputs": [
    {
     "data": {
      "text/html": [
       "<div>\n",
       "<style scoped>\n",
       "    .dataframe tbody tr th:only-of-type {\n",
       "        vertical-align: middle;\n",
       "    }\n",
       "\n",
       "    .dataframe tbody tr th {\n",
       "        vertical-align: top;\n",
       "    }\n",
       "\n",
       "    .dataframe thead th {\n",
       "        text-align: right;\n",
       "    }\n",
       "</style>\n",
       "<table border=\"1\" class=\"dataframe\">\n",
       "  <thead>\n",
       "    <tr style=\"text-align: right;\">\n",
       "      <th></th>\n",
       "      <th>C_YEAR</th>\n",
       "      <th>C_MNTH</th>\n",
       "      <th>C_WDAY</th>\n",
       "      <th>C_HOUR</th>\n",
       "      <th>C_SEV</th>\n",
       "      <th>C_VEHS</th>\n",
       "      <th>C_CONF</th>\n",
       "      <th>C_RCFG</th>\n",
       "      <th>C_WTHR</th>\n",
       "      <th>C_RSUR</th>\n",
       "      <th>...</th>\n",
       "      <th>V_TYPE</th>\n",
       "      <th>V_YEAR</th>\n",
       "      <th>P_ID</th>\n",
       "      <th>P_SEX</th>\n",
       "      <th>P_AGE</th>\n",
       "      <th>P_PSN</th>\n",
       "      <th>P_ISEV</th>\n",
       "      <th>P_SAFE</th>\n",
       "      <th>P_USER</th>\n",
       "      <th>C_DATE</th>\n",
       "    </tr>\n",
       "  </thead>\n",
       "  <tbody>\n",
       "    <tr>\n",
       "      <th>52</th>\n",
       "      <td>1999</td>\n",
       "      <td>1</td>\n",
       "      <td>1</td>\n",
       "      <td>09</td>\n",
       "      <td>2.0</td>\n",
       "      <td>2.0</td>\n",
       "      <td>34.0</td>\n",
       "      <td>2.0</td>\n",
       "      <td>1.0</td>\n",
       "      <td>1.0</td>\n",
       "      <td>...</td>\n",
       "      <td>1.0</td>\n",
       "      <td>1992.0</td>\n",
       "      <td>1.0</td>\n",
       "      <td>0.0</td>\n",
       "      <td>33.0</td>\n",
       "      <td>11.0</td>\n",
       "      <td>2.0</td>\n",
       "      <td>2.0</td>\n",
       "      <td>1.0</td>\n",
       "      <td>1999-01-01</td>\n",
       "    </tr>\n",
       "    <tr>\n",
       "      <th>54</th>\n",
       "      <td>1999</td>\n",
       "      <td>1</td>\n",
       "      <td>1</td>\n",
       "      <td>09</td>\n",
       "      <td>2.0</td>\n",
       "      <td>2.0</td>\n",
       "      <td>34.0</td>\n",
       "      <td>2.0</td>\n",
       "      <td>1.0</td>\n",
       "      <td>1.0</td>\n",
       "      <td>...</td>\n",
       "      <td>1.0</td>\n",
       "      <td>1992.0</td>\n",
       "      <td>1.0</td>\n",
       "      <td>0.0</td>\n",
       "      <td>70.0</td>\n",
       "      <td>11.0</td>\n",
       "      <td>1.0</td>\n",
       "      <td>2.0</td>\n",
       "      <td>1.0</td>\n",
       "      <td>1999-01-01</td>\n",
       "    </tr>\n",
       "    <tr>\n",
       "      <th>125</th>\n",
       "      <td>1999</td>\n",
       "      <td>1</td>\n",
       "      <td>1</td>\n",
       "      <td>20</td>\n",
       "      <td>2.0</td>\n",
       "      <td>1.0</td>\n",
       "      <td>3.0</td>\n",
       "      <td>3.0</td>\n",
       "      <td>1.0</td>\n",
       "      <td>1.0</td>\n",
       "      <td>...</td>\n",
       "      <td>1.0</td>\n",
       "      <td>1988.0</td>\n",
       "      <td>1.0</td>\n",
       "      <td>0.0</td>\n",
       "      <td>38.0</td>\n",
       "      <td>11.0</td>\n",
       "      <td>2.0</td>\n",
       "      <td>2.0</td>\n",
       "      <td>1.0</td>\n",
       "      <td>1999-01-01</td>\n",
       "    </tr>\n",
       "    <tr>\n",
       "      <th>141</th>\n",
       "      <td>1999</td>\n",
       "      <td>1</td>\n",
       "      <td>1</td>\n",
       "      <td>05</td>\n",
       "      <td>2.0</td>\n",
       "      <td>2.0</td>\n",
       "      <td>1.0</td>\n",
       "      <td>2.0</td>\n",
       "      <td>3.0</td>\n",
       "      <td>2.0</td>\n",
       "      <td>...</td>\n",
       "      <td>6.0</td>\n",
       "      <td>1995.0</td>\n",
       "      <td>1.0</td>\n",
       "      <td>1.0</td>\n",
       "      <td>34.0</td>\n",
       "      <td>11.0</td>\n",
       "      <td>1.0</td>\n",
       "      <td>2.0</td>\n",
       "      <td>1.0</td>\n",
       "      <td>1999-01-01</td>\n",
       "    </tr>\n",
       "    <tr>\n",
       "      <th>142</th>\n",
       "      <td>1999</td>\n",
       "      <td>1</td>\n",
       "      <td>1</td>\n",
       "      <td>05</td>\n",
       "      <td>2.0</td>\n",
       "      <td>2.0</td>\n",
       "      <td>1.0</td>\n",
       "      <td>2.0</td>\n",
       "      <td>3.0</td>\n",
       "      <td>2.0</td>\n",
       "      <td>...</td>\n",
       "      <td>6.0</td>\n",
       "      <td>1995.0</td>\n",
       "      <td>2.0</td>\n",
       "      <td>1.0</td>\n",
       "      <td>30.0</td>\n",
       "      <td>13.0</td>\n",
       "      <td>1.0</td>\n",
       "      <td>2.0</td>\n",
       "      <td>2.0</td>\n",
       "      <td>1999-01-01</td>\n",
       "    </tr>\n",
       "  </tbody>\n",
       "</table>\n",
       "<p>5 rows × 23 columns</p>\n",
       "</div>"
      ],
      "text/plain": [
       "    C_YEAR C_MNTH C_WDAY C_HOUR  C_SEV  C_VEHS  C_CONF  C_RCFG  C_WTHR  \\\n",
       "52    1999      1      1     09    2.0     2.0    34.0     2.0     1.0   \n",
       "54    1999      1      1     09    2.0     2.0    34.0     2.0     1.0   \n",
       "125   1999      1      1     20    2.0     1.0     3.0     3.0     1.0   \n",
       "141   1999      1      1     05    2.0     2.0     1.0     2.0     3.0   \n",
       "142   1999      1      1     05    2.0     2.0     1.0     2.0     3.0   \n",
       "\n",
       "     C_RSUR  ...  V_TYPE  V_YEAR  P_ID  P_SEX  P_AGE  P_PSN  P_ISEV  P_SAFE  \\\n",
       "52      1.0  ...     1.0  1992.0   1.0    0.0   33.0   11.0     2.0     2.0   \n",
       "54      1.0  ...     1.0  1992.0   1.0    0.0   70.0   11.0     1.0     2.0   \n",
       "125     1.0  ...     1.0  1988.0   1.0    0.0   38.0   11.0     2.0     2.0   \n",
       "141     2.0  ...     6.0  1995.0   1.0    1.0   34.0   11.0     1.0     2.0   \n",
       "142     2.0  ...     6.0  1995.0   2.0    1.0   30.0   13.0     1.0     2.0   \n",
       "\n",
       "     P_USER     C_DATE  \n",
       "52      1.0 1999-01-01  \n",
       "54      1.0 1999-01-01  \n",
       "125     1.0 1999-01-01  \n",
       "141     1.0 1999-01-01  \n",
       "142     2.0 1999-01-01  \n",
       "\n",
       "[5 rows x 23 columns]"
      ]
     },
     "execution_count": 12,
     "metadata": {},
     "output_type": "execute_result"
    }
   ],
   "source": [
    "df['C_DATE'] = pd.DatetimeIndex(df['C_YEAR'].map(str) + '-' + df['C_MNTH'])\n",
    "df.head()"
   ]
  },
  {
   "cell_type": "code",
   "execution_count": 13,
   "metadata": {},
   "outputs": [],
   "source": [
    "col_float=['C_YEAR' ,'C_MNTH','C_WDAY','C_HOUR']\n",
    "df[col_float] = df[col_float].astype(float)"
   ]
  },
  {
   "cell_type": "code",
   "execution_count": 14,
   "metadata": {},
   "outputs": [
    {
     "name": "stdout",
     "output_type": "stream",
     "text": [
      "<class 'pandas.core.frame.DataFrame'>\n",
      "Int64Index: 3292291 entries, 52 to 5860380\n",
      "Data columns (total 23 columns):\n",
      " #   Column  Dtype         \n",
      "---  ------  -----         \n",
      " 0   C_YEAR  float64       \n",
      " 1   C_MNTH  float64       \n",
      " 2   C_WDAY  float64       \n",
      " 3   C_HOUR  float64       \n",
      " 4   C_SEV   float64       \n",
      " 5   C_VEHS  float64       \n",
      " 6   C_CONF  float64       \n",
      " 7   C_RCFG  float64       \n",
      " 8   C_WTHR  float64       \n",
      " 9   C_RSUR  float64       \n",
      " 10  C_RALN  float64       \n",
      " 11  C_TRAF  float64       \n",
      " 12  V_ID    float64       \n",
      " 13  V_TYPE  float64       \n",
      " 14  V_YEAR  float64       \n",
      " 15  P_ID    float64       \n",
      " 16  P_SEX   float64       \n",
      " 17  P_AGE   float64       \n",
      " 18  P_PSN   float64       \n",
      " 19  P_ISEV  float64       \n",
      " 20  P_SAFE  float64       \n",
      " 21  P_USER  float64       \n",
      " 22  C_DATE  datetime64[ns]\n",
      "dtypes: datetime64[ns](1), float64(22)\n",
      "memory usage: 602.8 MB\n"
     ]
    }
   ],
   "source": [
    "df.info()"
   ]
  },
  {
   "cell_type": "markdown",
   "metadata": {},
   "source": [
    "### **ESTUDIO GRÁFICO DE LAS VARIABLES**"
   ]
  },
  {
   "cell_type": "markdown",
   "metadata": {},
   "source": [
    "Queremos analizar las variables y su relación con la ocurrencia o no de un accidente. Para ello, filtraremos nuestro dataset, tomando solo las observaciones que toman la posición del conductor como persona afectada y así evitar observaciones repetidas. Como hemos comentado antes, si hay n personas implicadas en el accidente, habrá n observaciones que tendrán las mismas características (clima, estado de la calzada, etc)"
   ]
  },
  {
   "cell_type": "code",
   "execution_count": 15,
   "metadata": {
    "scrolled": true
   },
   "outputs": [
    {
     "data": {
      "text/html": [
       "<div>\n",
       "<style scoped>\n",
       "    .dataframe tbody tr th:only-of-type {\n",
       "        vertical-align: middle;\n",
       "    }\n",
       "\n",
       "    .dataframe tbody tr th {\n",
       "        vertical-align: top;\n",
       "    }\n",
       "\n",
       "    .dataframe thead th {\n",
       "        text-align: right;\n",
       "    }\n",
       "</style>\n",
       "<table border=\"1\" class=\"dataframe\">\n",
       "  <thead>\n",
       "    <tr style=\"text-align: right;\">\n",
       "      <th></th>\n",
       "      <th>C_YEAR</th>\n",
       "      <th>C_MNTH</th>\n",
       "      <th>C_WDAY</th>\n",
       "      <th>C_HOUR</th>\n",
       "      <th>C_SEV</th>\n",
       "      <th>C_VEHS</th>\n",
       "      <th>C_CONF</th>\n",
       "      <th>C_RCFG</th>\n",
       "      <th>C_WTHR</th>\n",
       "      <th>C_RSUR</th>\n",
       "      <th>...</th>\n",
       "      <th>V_TYPE</th>\n",
       "      <th>V_YEAR</th>\n",
       "      <th>P_ID</th>\n",
       "      <th>P_SEX</th>\n",
       "      <th>P_AGE</th>\n",
       "      <th>P_PSN</th>\n",
       "      <th>P_ISEV</th>\n",
       "      <th>P_SAFE</th>\n",
       "      <th>P_USER</th>\n",
       "      <th>C_DATE</th>\n",
       "    </tr>\n",
       "  </thead>\n",
       "  <tbody>\n",
       "    <tr>\n",
       "      <th>52</th>\n",
       "      <td>1999.0</td>\n",
       "      <td>1.0</td>\n",
       "      <td>1.0</td>\n",
       "      <td>9.0</td>\n",
       "      <td>2.0</td>\n",
       "      <td>2.0</td>\n",
       "      <td>34.0</td>\n",
       "      <td>2.0</td>\n",
       "      <td>1.0</td>\n",
       "      <td>1.0</td>\n",
       "      <td>...</td>\n",
       "      <td>1.0</td>\n",
       "      <td>1992.0</td>\n",
       "      <td>1.0</td>\n",
       "      <td>0.0</td>\n",
       "      <td>33.0</td>\n",
       "      <td>11.0</td>\n",
       "      <td>2.0</td>\n",
       "      <td>2.0</td>\n",
       "      <td>1.0</td>\n",
       "      <td>1999-01-01</td>\n",
       "    </tr>\n",
       "    <tr>\n",
       "      <th>54</th>\n",
       "      <td>1999.0</td>\n",
       "      <td>1.0</td>\n",
       "      <td>1.0</td>\n",
       "      <td>9.0</td>\n",
       "      <td>2.0</td>\n",
       "      <td>2.0</td>\n",
       "      <td>34.0</td>\n",
       "      <td>2.0</td>\n",
       "      <td>1.0</td>\n",
       "      <td>1.0</td>\n",
       "      <td>...</td>\n",
       "      <td>1.0</td>\n",
       "      <td>1992.0</td>\n",
       "      <td>1.0</td>\n",
       "      <td>0.0</td>\n",
       "      <td>70.0</td>\n",
       "      <td>11.0</td>\n",
       "      <td>1.0</td>\n",
       "      <td>2.0</td>\n",
       "      <td>1.0</td>\n",
       "      <td>1999-01-01</td>\n",
       "    </tr>\n",
       "    <tr>\n",
       "      <th>125</th>\n",
       "      <td>1999.0</td>\n",
       "      <td>1.0</td>\n",
       "      <td>1.0</td>\n",
       "      <td>20.0</td>\n",
       "      <td>2.0</td>\n",
       "      <td>1.0</td>\n",
       "      <td>3.0</td>\n",
       "      <td>3.0</td>\n",
       "      <td>1.0</td>\n",
       "      <td>1.0</td>\n",
       "      <td>...</td>\n",
       "      <td>1.0</td>\n",
       "      <td>1988.0</td>\n",
       "      <td>1.0</td>\n",
       "      <td>0.0</td>\n",
       "      <td>38.0</td>\n",
       "      <td>11.0</td>\n",
       "      <td>2.0</td>\n",
       "      <td>2.0</td>\n",
       "      <td>1.0</td>\n",
       "      <td>1999-01-01</td>\n",
       "    </tr>\n",
       "    <tr>\n",
       "      <th>141</th>\n",
       "      <td>1999.0</td>\n",
       "      <td>1.0</td>\n",
       "      <td>1.0</td>\n",
       "      <td>5.0</td>\n",
       "      <td>2.0</td>\n",
       "      <td>2.0</td>\n",
       "      <td>1.0</td>\n",
       "      <td>2.0</td>\n",
       "      <td>3.0</td>\n",
       "      <td>2.0</td>\n",
       "      <td>...</td>\n",
       "      <td>6.0</td>\n",
       "      <td>1995.0</td>\n",
       "      <td>1.0</td>\n",
       "      <td>1.0</td>\n",
       "      <td>34.0</td>\n",
       "      <td>11.0</td>\n",
       "      <td>1.0</td>\n",
       "      <td>2.0</td>\n",
       "      <td>1.0</td>\n",
       "      <td>1999-01-01</td>\n",
       "    </tr>\n",
       "    <tr>\n",
       "      <th>147</th>\n",
       "      <td>1999.0</td>\n",
       "      <td>1.0</td>\n",
       "      <td>1.0</td>\n",
       "      <td>8.0</td>\n",
       "      <td>2.0</td>\n",
       "      <td>3.0</td>\n",
       "      <td>33.0</td>\n",
       "      <td>2.0</td>\n",
       "      <td>4.0</td>\n",
       "      <td>2.0</td>\n",
       "      <td>...</td>\n",
       "      <td>1.0</td>\n",
       "      <td>1989.0</td>\n",
       "      <td>1.0</td>\n",
       "      <td>1.0</td>\n",
       "      <td>18.0</td>\n",
       "      <td>11.0</td>\n",
       "      <td>2.0</td>\n",
       "      <td>2.0</td>\n",
       "      <td>1.0</td>\n",
       "      <td>1999-01-01</td>\n",
       "    </tr>\n",
       "    <tr>\n",
       "      <th>...</th>\n",
       "      <td>...</td>\n",
       "      <td>...</td>\n",
       "      <td>...</td>\n",
       "      <td>...</td>\n",
       "      <td>...</td>\n",
       "      <td>...</td>\n",
       "      <td>...</td>\n",
       "      <td>...</td>\n",
       "      <td>...</td>\n",
       "      <td>...</td>\n",
       "      <td>...</td>\n",
       "      <td>...</td>\n",
       "      <td>...</td>\n",
       "      <td>...</td>\n",
       "      <td>...</td>\n",
       "      <td>...</td>\n",
       "      <td>...</td>\n",
       "      <td>...</td>\n",
       "      <td>...</td>\n",
       "      <td>...</td>\n",
       "      <td>...</td>\n",
       "    </tr>\n",
       "    <tr>\n",
       "      <th>5860369</th>\n",
       "      <td>2014.0</td>\n",
       "      <td>12.0</td>\n",
       "      <td>7.0</td>\n",
       "      <td>21.0</td>\n",
       "      <td>2.0</td>\n",
       "      <td>2.0</td>\n",
       "      <td>35.0</td>\n",
       "      <td>3.0</td>\n",
       "      <td>2.0</td>\n",
       "      <td>1.0</td>\n",
       "      <td>...</td>\n",
       "      <td>1.0</td>\n",
       "      <td>2011.0</td>\n",
       "      <td>1.0</td>\n",
       "      <td>1.0</td>\n",
       "      <td>72.0</td>\n",
       "      <td>11.0</td>\n",
       "      <td>1.0</td>\n",
       "      <td>2.0</td>\n",
       "      <td>1.0</td>\n",
       "      <td>2014-12-01</td>\n",
       "    </tr>\n",
       "    <tr>\n",
       "      <th>5860372</th>\n",
       "      <td>2014.0</td>\n",
       "      <td>12.0</td>\n",
       "      <td>7.0</td>\n",
       "      <td>0.0</td>\n",
       "      <td>2.0</td>\n",
       "      <td>1.0</td>\n",
       "      <td>4.0</td>\n",
       "      <td>1.0</td>\n",
       "      <td>2.0</td>\n",
       "      <td>2.0</td>\n",
       "      <td>...</td>\n",
       "      <td>1.0</td>\n",
       "      <td>1994.0</td>\n",
       "      <td>1.0</td>\n",
       "      <td>1.0</td>\n",
       "      <td>49.0</td>\n",
       "      <td>11.0</td>\n",
       "      <td>2.0</td>\n",
       "      <td>2.0</td>\n",
       "      <td>1.0</td>\n",
       "      <td>2014-12-01</td>\n",
       "    </tr>\n",
       "    <tr>\n",
       "      <th>5860373</th>\n",
       "      <td>2014.0</td>\n",
       "      <td>12.0</td>\n",
       "      <td>7.0</td>\n",
       "      <td>18.0</td>\n",
       "      <td>2.0</td>\n",
       "      <td>1.0</td>\n",
       "      <td>2.0</td>\n",
       "      <td>1.0</td>\n",
       "      <td>2.0</td>\n",
       "      <td>5.0</td>\n",
       "      <td>...</td>\n",
       "      <td>1.0</td>\n",
       "      <td>2010.0</td>\n",
       "      <td>1.0</td>\n",
       "      <td>1.0</td>\n",
       "      <td>20.0</td>\n",
       "      <td>11.0</td>\n",
       "      <td>1.0</td>\n",
       "      <td>2.0</td>\n",
       "      <td>1.0</td>\n",
       "      <td>2014-12-01</td>\n",
       "    </tr>\n",
       "    <tr>\n",
       "      <th>5860376</th>\n",
       "      <td>2014.0</td>\n",
       "      <td>12.0</td>\n",
       "      <td>7.0</td>\n",
       "      <td>14.0</td>\n",
       "      <td>2.0</td>\n",
       "      <td>2.0</td>\n",
       "      <td>41.0</td>\n",
       "      <td>1.0</td>\n",
       "      <td>1.0</td>\n",
       "      <td>5.0</td>\n",
       "      <td>...</td>\n",
       "      <td>5.0</td>\n",
       "      <td>2008.0</td>\n",
       "      <td>1.0</td>\n",
       "      <td>1.0</td>\n",
       "      <td>44.0</td>\n",
       "      <td>11.0</td>\n",
       "      <td>1.0</td>\n",
       "      <td>2.0</td>\n",
       "      <td>1.0</td>\n",
       "      <td>2014-12-01</td>\n",
       "    </tr>\n",
       "    <tr>\n",
       "      <th>5860378</th>\n",
       "      <td>2014.0</td>\n",
       "      <td>12.0</td>\n",
       "      <td>7.0</td>\n",
       "      <td>19.0</td>\n",
       "      <td>2.0</td>\n",
       "      <td>1.0</td>\n",
       "      <td>3.0</td>\n",
       "      <td>1.0</td>\n",
       "      <td>1.0</td>\n",
       "      <td>3.0</td>\n",
       "      <td>...</td>\n",
       "      <td>1.0</td>\n",
       "      <td>2001.0</td>\n",
       "      <td>1.0</td>\n",
       "      <td>0.0</td>\n",
       "      <td>35.0</td>\n",
       "      <td>11.0</td>\n",
       "      <td>2.0</td>\n",
       "      <td>2.0</td>\n",
       "      <td>1.0</td>\n",
       "      <td>2014-12-01</td>\n",
       "    </tr>\n",
       "  </tbody>\n",
       "</table>\n",
       "<p>2210629 rows × 23 columns</p>\n",
       "</div>"
      ],
      "text/plain": [
       "         C_YEAR  C_MNTH  C_WDAY  C_HOUR  C_SEV  C_VEHS  C_CONF  C_RCFG  \\\n",
       "52       1999.0     1.0     1.0     9.0    2.0     2.0    34.0     2.0   \n",
       "54       1999.0     1.0     1.0     9.0    2.0     2.0    34.0     2.0   \n",
       "125      1999.0     1.0     1.0    20.0    2.0     1.0     3.0     3.0   \n",
       "141      1999.0     1.0     1.0     5.0    2.0     2.0     1.0     2.0   \n",
       "147      1999.0     1.0     1.0     8.0    2.0     3.0    33.0     2.0   \n",
       "...         ...     ...     ...     ...    ...     ...     ...     ...   \n",
       "5860369  2014.0    12.0     7.0    21.0    2.0     2.0    35.0     3.0   \n",
       "5860372  2014.0    12.0     7.0     0.0    2.0     1.0     4.0     1.0   \n",
       "5860373  2014.0    12.0     7.0    18.0    2.0     1.0     2.0     1.0   \n",
       "5860376  2014.0    12.0     7.0    14.0    2.0     2.0    41.0     1.0   \n",
       "5860378  2014.0    12.0     7.0    19.0    2.0     1.0     3.0     1.0   \n",
       "\n",
       "         C_WTHR  C_RSUR  ...  V_TYPE  V_YEAR  P_ID  P_SEX  P_AGE  P_PSN  \\\n",
       "52          1.0     1.0  ...     1.0  1992.0   1.0    0.0   33.0   11.0   \n",
       "54          1.0     1.0  ...     1.0  1992.0   1.0    0.0   70.0   11.0   \n",
       "125         1.0     1.0  ...     1.0  1988.0   1.0    0.0   38.0   11.0   \n",
       "141         3.0     2.0  ...     6.0  1995.0   1.0    1.0   34.0   11.0   \n",
       "147         4.0     2.0  ...     1.0  1989.0   1.0    1.0   18.0   11.0   \n",
       "...         ...     ...  ...     ...     ...   ...    ...    ...    ...   \n",
       "5860369     2.0     1.0  ...     1.0  2011.0   1.0    1.0   72.0   11.0   \n",
       "5860372     2.0     2.0  ...     1.0  1994.0   1.0    1.0   49.0   11.0   \n",
       "5860373     2.0     5.0  ...     1.0  2010.0   1.0    1.0   20.0   11.0   \n",
       "5860376     1.0     5.0  ...     5.0  2008.0   1.0    1.0   44.0   11.0   \n",
       "5860378     1.0     3.0  ...     1.0  2001.0   1.0    0.0   35.0   11.0   \n",
       "\n",
       "         P_ISEV  P_SAFE  P_USER     C_DATE  \n",
       "52          2.0     2.0     1.0 1999-01-01  \n",
       "54          1.0     2.0     1.0 1999-01-01  \n",
       "125         2.0     2.0     1.0 1999-01-01  \n",
       "141         1.0     2.0     1.0 1999-01-01  \n",
       "147         2.0     2.0     1.0 1999-01-01  \n",
       "...         ...     ...     ...        ...  \n",
       "5860369     1.0     2.0     1.0 2014-12-01  \n",
       "5860372     2.0     2.0     1.0 2014-12-01  \n",
       "5860373     1.0     2.0     1.0 2014-12-01  \n",
       "5860376     1.0     2.0     1.0 2014-12-01  \n",
       "5860378     2.0     2.0     1.0 2014-12-01  \n",
       "\n",
       "[2210629 rows x 23 columns]"
      ]
     },
     "execution_count": 15,
     "metadata": {},
     "output_type": "execute_result"
    }
   ],
   "source": [
    "df_c = df[df['P_PSN'] == 11]\n",
    "df_c"
   ]
  },
  {
   "cell_type": "markdown",
   "metadata": {},
   "source": [
    "**DÍA DE LA SEMANA** \n",
    "\n",
    "Primero nos preguntamos si el número de accidentes varía significativamente con respecto al día de a semana. Para comprobarlo, representaremos un gráfico del número de accidentes agrupados por el día de la semana"
   ]
  },
  {
   "cell_type": "code",
   "execution_count": 16,
   "metadata": {
    "scrolled": true
   },
   "outputs": [
    {
     "data": {
      "image/png": "[encoded data removed]",
      "text/plain": [
       "<Figure size 640x480 with 1 Axes>"
      ]
     },
     "metadata": {},
     "output_type": "display_data"
    }
   ],
   "source": [
    "by_weekday = df_c.groupby('C_WDAY').size()\n",
    "by_weekday.index = ['Lunes', 'Martes', 'Miercoles', 'Jueves', 'Viernes', 'Sabado', 'Domingo']\n",
    "plot2 = by_weekday.plot(kind='bar',title='Colisiones por día de la semana');"
   ]
  },
  {
   "cell_type": "markdown",
   "metadata": {},
   "source": [
    "Observamos que la distribución es bastante homogénea, liderando los viernes y en la cola los domingos. Esto se puede deber a que la gente coge menos el coche los domingos y más los viernes (por ejemplo, para irse de fin de semana).\n",
    "\n",
    "**HORA DEL ACCIDENTE** \n",
    "\n",
    "Planteamos la misma pregunta, pero con respecto a las horas del día. Para comprobarlo sacaremos un gráfico del número de accidentes por hora."
   ]
  },
  {
   "cell_type": "code",
   "execution_count": 17,
   "metadata": {
    "scrolled": true
   },
   "outputs": [
    {
     "data": {
      "image/png": "[encoded data removed]",
      "text/plain": [
       "<Figure size 1500x500 with 1 Axes>"
      ]
     },
     "metadata": {},
     "output_type": "display_data"
    }
   ],
   "source": [
    "import matplotlib.pyplot as plt\n",
    "\n",
    "plt.figure(figsize=(15, 5))\n",
    "\n",
    "by_hour = df_c.groupby('C_HOUR').size()\n",
    "plot3 = by_hour.plot(kind='bar', title='Colisiones por la hora')\n",
    "\n",
    "plt.xlabel('Hora del día')\n",
    "plt.ylabel('Cantidad de colisiones')\n",
    "plt.xticks(rotation=0)\n",
    "\n",
    "plt.show()\n"
   ]
  },
  {
   "cell_type": "markdown",
   "metadata": {},
   "source": [
    "Observamos que hay una gran diferencia entre el número accidentes según la hora del día ya que, razonablemente, de 12 a 6 de la mañana hay menos coches en las carreteras. Por otro lado, el intervalo horario en el que hay mas accidentes es de 15 a 17, que puede coincidir con la vuelta del trabajo en coche."
   ]
  },
  {
   "cell_type": "markdown",
   "metadata": {},
   "source": [
    "**AÑO DE LA COLISIÓN**\n",
    "\n",
    "¿Ha variado el número de accidentes por año? Veámoslo."
   ]
  },
  {
   "cell_type": "code",
   "execution_count": 18,
   "metadata": {},
   "outputs": [
    {
     "data": {
      "image/png": "[encoded data removed]",
      "text/plain": [
       "<Figure size 1500x500 with 1 Axes>"
      ]
     },
     "metadata": {},
     "output_type": "display_data"
    }
   ],
   "source": [
    "plt.figure(figsize=(15,5))\n",
    "by_hour = df_c.groupby('C_YEAR').size()\n",
    "plot3 = by_hour.plot(kind='bar',title='Colisiones por año')"
   ]
  },
  {
   "cell_type": "markdown",
   "metadata": {},
   "source": [
    "Ha descendido ligeramente. Puede deberse a la mejoría en las carreteras o a las mejoras en medidas de seguridad de los nuevos transportes."
   ]
  },
  {
   "cell_type": "markdown",
   "metadata": {},
   "source": [
    "**NÚMERO DE FALLECIMIENTOS**\n",
    "\n",
    "Veamos como ha evolucionado el número de fallecimiento en accidentes de tráfico a lo largo del tiempo."
   ]
  },
  {
   "cell_type": "code",
   "execution_count": 19,
   "metadata": {},
   "outputs": [
    {
     "name": "stderr",
     "output_type": "stream",
     "text": [
      "C:\\Users\\mariq\\AppData\\Local\\Temp\\ipykernel_35528\\2998640915.py:6: FutureWarning: Indexing with multiple keys (implicitly converted to a tuple of keys) will be deprecated, use a list instead.\n",
      "  df1 = df1.groupby('C_DATE')['fatalidad','no_fatalidad'].sum()\n"
     ]
    },
    {
     "data": {
      "text/plain": [
       "Text(0, 0.5, 'Numero de victimas')"
      ]
     },
     "execution_count": 19,
     "metadata": {},
     "output_type": "execute_result"
    },
    {
     "data": {
      "image/png": "[encoded data removed]",
      "text/plain": [
       "<Figure size 1500x500 with 1 Axes>"
      ]
     },
     "metadata": {},
     "output_type": "display_data"
    }
   ],
   "source": [
    "df1 = df.set_index('C_DATE')\n",
    "df1\n",
    "df1['fatalidad']=np.where(df1['C_SEV']==1,1,0)\n",
    "df1['no_fatalidad']=np.where(df1['C_SEV']==2,1,0)\n",
    "\n",
    "df1 = df1.groupby('C_DATE')['fatalidad','no_fatalidad'].sum()\n",
    "df1\n",
    "\n",
    "plot2 = df1['fatalidad'].plot(figsize=(15,5),title='Estadistica del número de victimas mortales')\n",
    "plot2.set_xlabel(\"Fecha\")\n",
    "plot2.set_ylabel(\"Numero de victimas\")"
   ]
  },
  {
   "cell_type": "code",
   "execution_count": 20,
   "metadata": {},
   "outputs": [
    {
     "data": {
      "text/plain": [
       "Text(0, 0.5, 'Numero de victimas')"
      ]
     },
     "execution_count": 20,
     "metadata": {},
     "output_type": "execute_result"
    },
    {
     "data": {
      "image/png": "[encoded data removed]",
      "text/plain": [
       "<Figure size 1500x500 with 1 Axes>"
      ]
     },
     "metadata": {},
     "output_type": "display_data"
    }
   ],
   "source": [
    "plot2 = df1['no_fatalidad'].plot(figsize=(15,5),title='Estadistica del número de victimas no mortales')\n",
    "plot2.set_xlabel(\"Fecha\")\n",
    "plot2.set_ylabel(\"Numero de victimas\")"
   ]
  },
  {
   "cell_type": "markdown",
   "metadata": {},
   "source": [
    "Visualizando ambas gráficas, podemos concluir que el número de accidentes con víctimas mortales se ha reduccido con el paso de los años. "
   ]
  },
  {
   "cell_type": "markdown",
   "metadata": {},
   "source": [
    "**CONTEXTO DE LA COLISIÓN**\n",
    "\n",
    "Veamos que tipo de colisión (un solo coche, varios coches, golpe por detrás, etc) es la más frecuente."
   ]
  },
  {
   "cell_type": "code",
   "execution_count": 21,
   "metadata": {},
   "outputs": [
    {
     "data": {
      "image/png": "[encoded data removed]",
      "text/plain": [
       "<Figure size 1500x500 with 1 Axes>"
      ]
     },
     "metadata": {},
     "output_type": "display_data"
    }
   ],
   "source": [
    "plt.figure(figsize=(15,5))\n",
    "by_hour = df_c.groupby('C_CONF').size()\n",
    "plot3 = by_hour.plot(kind='bar',title='TIPO DE COLISIÓN')"
   ]
  },
  {
   "cell_type": "markdown",
   "metadata": {},
   "source": [
    "Con diferencia, la 21 es la configuración más frecuente. Si miramos en *driveLegend.pdf*, vemos que se corresponde a una colisión por detrás."
   ]
  },
  {
   "cell_type": "markdown",
   "metadata": {},
   "source": [
    "**CONFIGURACIÓN DE LA CALZADA**\n",
    "\n",
    "Veamos si inlfuye o no en el número de accidentes."
   ]
  },
  {
   "cell_type": "code",
   "execution_count": 22,
   "metadata": {},
   "outputs": [
    {
     "data": {
      "image/png": "[encoded data removed]",
      "text/plain": [
       "<Figure size 1500x500 with 1 Axes>"
      ]
     },
     "metadata": {},
     "output_type": "display_data"
    }
   ],
   "source": [
    "plt.figure(figsize=(15,5))\n",
    "by_hour = df_c.groupby('C_RCFG').size()\n",
    "plot3 = by_hour.plot(kind='bar',title='CONFIGURACIÓN DE LA CALZADA')"
   ]
  },
  {
   "cell_type": "markdown",
   "metadata": {},
   "source": [
    "Con una amplia diferencia dominan el valor 2 y 1, que se corresponden a las intersecciones entra vías normales y 1 al resto de vías normales sin ser una intersección."
   ]
  },
  {
   "cell_type": "markdown",
   "metadata": {},
   "source": [
    "**CLIMA**\n",
    "\n",
    "A priori creemos que el clima es un factor bastante determinante a la hora de producirse un accidente. Ya que si, por ejemplo, la calzada esta mojada o helada, la probabilidad de tener un accidente aumenta considerablemente. Comprobémoslo."
   ]
  },
  {
   "cell_type": "code",
   "execution_count": 23,
   "metadata": {},
   "outputs": [
    {
     "data": {
      "image/png": "[encoded data removed]",
      "text/plain": [
       "<Figure size 1500x500 with 1 Axes>"
      ]
     },
     "metadata": {},
     "output_type": "display_data"
    }
   ],
   "source": [
    "plt.figure(figsize=(15,5))\n",
    "by_hour = df_c.groupby('C_WTHR').size()\n",
    "plot3 = by_hour.plot(kind='bar',title='CLIMATOLOGIA')"
   ]
  },
  {
   "cell_type": "markdown",
   "metadata": {},
   "source": [
    "Sin embargo, obtenemos que la mayoría de accidentes se producen en los días soleados. Bien es cierto que también hay barras significativas en los días nublados (2), lluviosos (3) y nevados (4)\n",
    "\n",
    "**¿Cómo es esto posible?**\n",
    "\n",
    "Si buscamos información sobre el clima de Canadá (en Toronto, ya que Canadá es muy extenso), observamos que aunque hay bastantes días de nevadas y precipitaciones, lo más frecuente son días despejados, y por lo tanto es normal que haya más acciedentes en días despejados (también es lógico pensar que cuando hay fuertes nevadas, heladas o lluvias la gente no sale tanto de casa por el frío y no coge tanto el coche)\n",
    "\n",
    "Si pudiéremos obtener el número de días en los que hubo cada meteorología podríamos calcular la frecuencia relativa de cada uno de los valores y obtendríamos resultados mucho más realistas."
   ]
  },
  {
   "cell_type": "markdown",
   "metadata": {},
   "source": [
    "**ESTADO DE LA CALZADA**\n",
    "\n",
    "Pasará lo mismo que en la anterior. Ya que, lo normal es que la calzada esté seca."
   ]
  },
  {
   "cell_type": "code",
   "execution_count": 24,
   "metadata": {},
   "outputs": [
    {
     "data": {
      "image/png": "[encoded data removed]",
      "text/plain": [
       "<Figure size 1500x500 with 1 Axes>"
      ]
     },
     "metadata": {},
     "output_type": "display_data"
    }
   ],
   "source": [
    "plt.figure(figsize=(15,5))\n",
    "by_hour = df_c.groupby('C_RSUR').size()\n",
    "plot3 = by_hour.plot(kind='bar',title='ESTADO DE LA CALZADA')"
   ]
  },
  {
   "cell_type": "markdown",
   "metadata": {},
   "source": [
    "Como ya vaticinábamos, el resultado es el comentado. El razonamiento es el mismo que en el apartado anterior."
   ]
  },
  {
   "cell_type": "markdown",
   "metadata": {},
   "source": [
    "**¿INFLUYE EL ESTADO FÍSICO DE LA VÍA?**\n",
    "\n",
    "Habría que tener en cuenta que Canadá es un país desarrollado y cabe esperar que la mayoría de sus carreteras estén en buen estado."
   ]
  },
  {
   "cell_type": "code",
   "execution_count": 25,
   "metadata": {},
   "outputs": [
    {
     "data": {
      "image/png": "[encoded data removed]",
      "text/plain": [
       "<Figure size 1500x500 with 1 Axes>"
      ]
     },
     "metadata": {},
     "output_type": "display_data"
    }
   ],
   "source": [
    "plt.figure(figsize=(15,5))\n",
    "by_hour = df_c.groupby('C_RALN').size()\n",
    "plot3 = by_hour.plot(kind='bar',title='ESTADO FÍSICO DE LA VÍA')"
   ]
  },
  {
   "cell_type": "markdown",
   "metadata": {},
   "source": [
    "**RELACIÓN ENTRE 'P_ISEV' Y 'P_SAFE'**"
   ]
  },
  {
   "cell_type": "code",
   "execution_count": 26,
   "metadata": {},
   "outputs": [
    {
     "name": "stdout",
     "output_type": "stream",
     "text": [
      "P_SAFE   1.0      2.0    9.0   10.0  12.0  13.0\n",
      "P_ISEV                                         \n",
      "1.0      7597   922239   1076     1   789  2387\n",
      "2.0     39723  1174017  31768    18  8797  7384\n",
      "3.0      4536     8791   1197     0   177   132\n"
     ]
    }
   ],
   "source": [
    "contingency_table = pd.crosstab(df_c['P_ISEV'], df_c['P_SAFE'])\n",
    "print(contingency_table)"
   ]
  },
  {
   "cell_type": "markdown",
   "metadata": {},
   "source": [
    "Vemos que (por ejemplo), cuando P_SAFE = 1.0 (No utiliza medidas de seguridad), el número de que personas que necesita tratamiento (P_ISEV = 2.0) es mucho mayor que los que no necesitan tratamiento porque salen ilesos (1.0)"
   ]
  },
  {
   "cell_type": "markdown",
   "metadata": {},
   "source": [
    "# SEGUNDA PARTE:\n",
    "### ¿Qué tipos de vehículos (modelos, antigüedad, etc.) y conductores son más propensos a tener accidentes (acción correctiva en prima)?\n",
    "\n",
    "Para ello, seguimos tomando el dataset con los conductores definido anteriormente df_c. Veamos primero si el sexo del conductor influye o no."
   ]
  },
  {
   "cell_type": "code",
   "execution_count": 27,
   "metadata": {},
   "outputs": [
    {
     "data": {
      "text/plain": [
       "1.0    1321295\n",
       "0.0     889334\n",
       "Name: P_SEX, dtype: int64"
      ]
     },
     "execution_count": 27,
     "metadata": {},
     "output_type": "execute_result"
    }
   ],
   "source": [
    "df_c['P_SEX'].value_counts()"
   ]
  },
  {
   "cell_type": "markdown",
   "metadata": {},
   "source": [
    "Aproximadamente el 40% de conductores implicados en accidentes son mujeres y el 60% hombres (no parece un factor determinante)\n",
    "\n",
    "Veamos ahora las edades."
   ]
  },
  {
   "cell_type": "code",
   "execution_count": 28,
   "metadata": {},
   "outputs": [
    {
     "data": {
      "text/plain": [
       "19.0    62814\n",
       "18.0    62494\n",
       "20.0    60562\n",
       "21.0    58169\n",
       "22.0    55543\n",
       "23.0    53748\n",
       "17.0    52190\n",
       "24.0    51117\n",
       "25.0    50064\n",
       "26.0    47935\n",
       "Name: P_AGE, dtype: int64"
      ]
     },
     "execution_count": 28,
     "metadata": {},
     "output_type": "execute_result"
    }
   ],
   "source": [
    "df_c['P_AGE'].value_counts().head(10)"
   ]
  },
  {
   "cell_type": "markdown",
   "metadata": {},
   "source": [
    "Podemos observar que la franja de edad del conductor en la que los accidentes son más frecuentes es de 17 a 26. En estas edades es cuando el conductor es más inexperto, lo que ha podido llevar a este resultado."
   ]
  },
  {
   "cell_type": "code",
   "execution_count": 29,
   "metadata": {},
   "outputs": [
    {
     "data": {
      "text/plain": [
       "1.0     1986295\n",
       "6.0       70600\n",
       "14.0      38007\n",
       "8.0       33348\n",
       "7.0       32984\n",
       "5.0       28466\n",
       "11.0      12781\n",
       "9.0        3533\n",
       "17.0       2274\n",
       "23.0        962\n",
       "18.0        858\n",
       "10.0        270\n",
       "21.0        251\n",
       "Name: V_TYPE, dtype: int64"
      ]
     },
     "execution_count": 29,
     "metadata": {},
     "output_type": "execute_result"
    }
   ],
   "source": [
    "df_c['V_TYPE'].value_counts()"
   ]
  },
  {
   "cell_type": "markdown",
   "metadata": {},
   "source": [
    "El tipo más frecuente (con mucha diferencia) es el tipo 1, que son los coches normales.Abarca alrededor del 90% del total de accidentes. Esto es razonable, ya que la mayoría de los vehículos que hay en las careteras son coches normales de uso personal.\n",
    "\n",
    "\n",
    "**VARIABLE ANTIGÜEDAD**\n",
    "\n",
    "Para ver cómo de antiguo era en el momento del accidente, creamos una nueva variable que sea la diferencia entre el año de la colisión y el año de fabricación del coche."
   ]
  },
  {
   "cell_type": "code",
   "execution_count": 30,
   "metadata": {},
   "outputs": [],
   "source": [
    "df_c = df_c.copy()\n",
    "df_c.loc[:, 'V_AGE'] = df_c['C_YEAR'] - df_c['V_YEAR']"
   ]
  },
  {
   "cell_type": "code",
   "execution_count": 31,
   "metadata": {},
   "outputs": [
    {
     "data": {
      "text/plain": [
       "False    2198077\n",
       "True       12552\n",
       "Name: V_AGE, dtype: int64"
      ]
     },
     "execution_count": 31,
     "metadata": {},
     "output_type": "execute_result"
    }
   ],
   "source": [
    "(df_c['V_AGE']< 0).value_counts()"
   ]
  },
  {
   "cell_type": "markdown",
   "metadata": {},
   "source": [
    "\n",
    "\n",
    "Observamos que en nuestra nueva variable aparecen valores negativos. Como esto no tiene sentido, eliminaremos estas observaciones."
   ]
  },
  {
   "cell_type": "code",
   "execution_count": 32,
   "metadata": {},
   "outputs": [
    {
     "data": {
      "text/plain": [
       "(2198077, 24)"
      ]
     },
     "execution_count": 32,
     "metadata": {},
     "output_type": "execute_result"
    }
   ],
   "source": [
    "df_c = df_c[df_c['V_AGE']  >= 0]\n",
    "df_c.shape"
   ]
  },
  {
   "cell_type": "code",
   "execution_count": 33,
   "metadata": {},
   "outputs": [
    {
     "data": {
      "text/plain": [
       "1.0     163223\n",
       "2.0     158764\n",
       "4.0     153814\n",
       "5.0     152337\n",
       "3.0     152214\n",
       "6.0     148292\n",
       "7.0     143780\n",
       "8.0     138892\n",
       "9.0     134916\n",
       "10.0    129333\n",
       "Name: V_AGE, dtype: int64"
      ]
     },
     "execution_count": 33,
     "metadata": {},
     "output_type": "execute_result"
    }
   ],
   "source": [
    "df_c['V_AGE'].value_counts().head(10)"
   ]
  },
  {
   "cell_type": "markdown",
   "metadata": {},
   "source": [
    "Si nuestro objetivo es encontrar qué tipo de conductores y de vehículos son más propensos a tener un accidente, hemos mostrado ya las frecuencias para cada clase. Como queremos que resulte más sencilla su interpretación, diremos que el tipo de vehículo más frecuente en los accidentes es el 1 (con mucha diferencia) , que corresponde a los coches personales normales. \n",
    "\n",
    "Ahora, dividiremos las otras variables en clases que permitan entender mejor los resultados."
   ]
  },
  {
   "cell_type": "code",
   "execution_count": 34,
   "metadata": {},
   "outputs": [],
   "source": [
    "# Dividir la variable V_AGE en tres clases: coche nuevo, media edad y viejo\n",
    "df_c['V_AGE_CLASS'] = pd.cut(df_c['V_AGE'], bins=[0, 5, 12, float('inf')], labels=['Nuevo', 'Medio', 'Viejo'])\n",
    "\n",
    "# Dividir la variable P_AGE en tres clases: jóvenes, mediana edad y avanzada edad\n",
    "df_c['P_AGE_CLASS'] = pd.cut(df_c['P_AGE'], bins=[16, 35, 60, 99], labels=['Joven', 'Mediana Edad', 'Avanzada Edad'])"
   ]
  },
  {
   "cell_type": "code",
   "execution_count": 35,
   "metadata": {},
   "outputs": [
    {
     "data": {
      "text/plain": [
       "Medio    923953\n",
       "Nuevo    780352\n",
       "Viejo    370742\n",
       "Name: V_AGE_CLASS, dtype: int64"
      ]
     },
     "execution_count": 35,
     "metadata": {},
     "output_type": "execute_result"
    }
   ],
   "source": [
    "df_c['V_AGE_CLASS'].value_counts()"
   ]
  },
  {
   "cell_type": "markdown",
   "metadata": {},
   "source": [
    "Vemos que la se producen más accidentes con coches de antigüedad media que en los nuevos o los viejos."
   ]
  },
  {
   "cell_type": "code",
   "execution_count": 36,
   "metadata": {},
   "outputs": [
    {
     "data": {
      "text/plain": [
       "Mediana Edad     959593\n",
       "Joven            950724\n",
       "Avanzada Edad    268447\n",
       "Name: P_AGE_CLASS, dtype: int64"
      ]
     },
     "execution_count": 36,
     "metadata": {},
     "output_type": "execute_result"
    }
   ],
   "source": [
    "df_c['P_AGE_CLASS'].value_counts()"
   ]
  },
  {
   "cell_type": "markdown",
   "metadata": {},
   "source": [
    "El número de personas de mediana edad es casi igual que el de jóvenes. Sin embargo, hay muchos menos conductores de avanzada edad."
   ]
  },
  {
   "cell_type": "markdown",
   "metadata": {},
   "source": [
    "**¿QUÉ PASA SI LAS COMBINAMOS?**\n",
    "\n",
    "Ahora vamos a ver la combinación de estas dos variables que más accidentes produce. Para ello, vamos a agrupar por V_AGE y P_AGE. No tendremos en cuenta V_TYPE, ya que hemos visto que dominaba el valor 1, correspondiente a los automóviles normales."
   ]
  },
  {
   "cell_type": "code",
   "execution_count": 37,
   "metadata": {},
   "outputs": [
    {
     "name": "stdout",
     "output_type": "stream",
     "text": [
      "  V_AGE_CLASS    P_AGE_CLASS  Frecuencia\n",
      "3       Medio          Joven      414858\n",
      "4       Medio   Mediana Edad      389096\n",
      "1       Nuevo   Mediana Edad      366625\n",
      "0       Nuevo          Joven      310433\n",
      "6       Viejo          Joven      172804\n",
      "7       Viejo   Mediana Edad      147316\n",
      "5       Medio  Avanzada Edad      111560\n",
      "2       Nuevo  Avanzada Edad       97789\n",
      "8       Viejo  Avanzada Edad       46028\n"
     ]
    }
   ],
   "source": [
    "# Calcular las combinaciones más frecuentes\n",
    "combinaciones_frecuentes = df_c.groupby(['V_AGE_CLASS', 'P_AGE_CLASS']).size().reset_index(name='Frecuencia')\n",
    "combinaciones_frecuentes = combinaciones_frecuentes.sort_values('Frecuencia', ascending=False)\n",
    "\n",
    "# Mostrar las combinaciones más frecuentes\n",
    "print(combinaciones_frecuentes.head(10))\n"
   ]
  },
  {
   "cell_type": "markdown",
   "metadata": {},
   "source": [
    "Por lo tanto, las combinación más frecuente en el número de accidentes es:\n",
    "- Vehículo familiar.\n",
    "- La antigüedad del coche se encuentra entre los 5 y los 12 años.\n",
    "- El conductor se encuentra entre los 16 y los 30 años.\n",
    "\n",
    "Los resultados concuerdan con lo que hicimos anteriormente al verlas por separado, ya que, aunque había mas conductores de mediana edad, el número de jóvenes era prácticamente el mismo."
   ]
  },
  {
   "cell_type": "markdown",
   "metadata": {},
   "source": [
    "\n",
    "### ¿Qué tipos de vehículos (modelos, antigüedad, etc.) y conductores son menos propensos a tener accidentes (descuento en prima)?"
   ]
  },
  {
   "cell_type": "markdown",
   "metadata": {},
   "source": [
    "Procedemos de igual manera"
   ]
  },
  {
   "cell_type": "code",
   "execution_count": 38,
   "metadata": {},
   "outputs": [
    {
     "name": "stdout",
     "output_type": "stream",
     "text": [
      "  V_AGE_CLASS    P_AGE_CLASS  Frecuencia\n",
      "8       Viejo  Avanzada Edad       46028\n",
      "2       Nuevo  Avanzada Edad       97789\n",
      "5       Medio  Avanzada Edad      111560\n",
      "7       Viejo   Mediana Edad      147316\n",
      "6       Viejo          Joven      172804\n",
      "0       Nuevo          Joven      310433\n",
      "1       Nuevo   Mediana Edad      366625\n",
      "4       Medio   Mediana Edad      389096\n",
      "3       Medio          Joven      414858\n"
     ]
    }
   ],
   "source": [
    "# Calcular las combinaciones menos frecuentes\n",
    "combinaciones_menos_frecuentes = df_c.groupby(['V_AGE_CLASS', 'P_AGE_CLASS']).size().reset_index(name='Frecuencia')\n",
    "combinaciones_menos_frecuentes = combinaciones_menos_frecuentes.sort_values('Frecuencia', ascending= True)\n",
    "\n",
    "# Mostrar las combinaciones más frecuentes\n",
    "print(combinaciones_menos_frecuentes.head(10))"
   ]
  },
  {
   "cell_type": "markdown",
   "metadata": {},
   "source": [
    "Tiene sentido porque en nuestros datos hay muchas menos personas de edad avanzada.\n",
    "\n",
    "Si ahora queremos ver los tipos de coches menos frecuentes:"
   ]
  },
  {
   "cell_type": "code",
   "execution_count": 39,
   "metadata": {},
   "outputs": [
    {
     "data": {
      "text/plain": [
       "1.0     1975544\n",
       "6.0       70326\n",
       "14.0      37849\n",
       "7.0       32598\n",
       "8.0       32568\n",
       "5.0       28356\n",
       "11.0      12758\n",
       "9.0        3473\n",
       "17.0       2269\n",
       "23.0        962\n",
       "18.0        855\n",
       "10.0        268\n",
       "21.0        251\n",
       "Name: V_TYPE, dtype: int64"
      ]
     },
     "execution_count": 39,
     "metadata": {},
     "output_type": "execute_result"
    }
   ],
   "source": [
    "df_c['V_TYPE'].value_counts()"
   ]
  },
  {
   "cell_type": "markdown",
   "metadata": {},
   "source": [
    "Vemos que son los de tipo 21 (camiones de bomberos)"
   ]
  },
  {
   "cell_type": "markdown",
   "metadata": {},
   "source": [
    "# TERCERA PARTE\n",
    "\n",
    "### ¿Qué es lo que más contribuye a que existan fallecimientos en un accidente?"
   ]
  },
  {
   "cell_type": "markdown",
   "metadata": {},
   "source": [
    "Para poder conocer las caracerísticas que más influyen en los fallecimientos, vamos a implementar un modelo de Random Forest, para poder ver qué atributos son los más importantes a la hora de predecir la ocurrencia o no ocurrencia de un fallecimiento."
   ]
  },
  {
   "cell_type": "code",
   "execution_count": 40,
   "metadata": {},
   "outputs": [],
   "source": [
    "from sklearn.neighbors import KNeighborsClassifier\n",
    "from sklearn.neighbors import KNeighborsRegressor"
   ]
  },
  {
   "cell_type": "code",
   "execution_count": 41,
   "metadata": {
    "scrolled": true
   },
   "outputs": [
    {
     "data": {
      "text/plain": [
       "1    3238415\n",
       "0      53876\n",
       "Name: C_SEV, dtype: int64"
      ]
     },
     "execution_count": 41,
     "metadata": {},
     "output_type": "execute_result"
    }
   ],
   "source": [
    "le = LabelEncoder()\n",
    "df[\"C_SEV\"] = le.fit_transform(df[\"C_SEV\"])\n",
    "df['C_SEV'].value_counts()"
   ]
  },
  {
   "cell_type": "markdown",
   "metadata": {},
   "source": [
    "Transformamos la variable que nos indica la fatalidad del accidente para que tome los valores 0 (si el accidente no ha dejado víctimas mortales) o 1 (si el accidente ha dejado víctimas mortales)"
   ]
  },
  {
   "cell_type": "code",
   "execution_count": 42,
   "metadata": {},
   "outputs": [],
   "source": [
    "X = df.drop(['C_DATE', 'C_SEV', 'C_YEAR','C_MNTH', 'C_WDAY', 'C_HOUR', 'V_ID','P_ID'], axis=1)\n",
    "y = df[\"C_SEV\"]"
   ]
  },
  {
   "cell_type": "markdown",
   "metadata": {},
   "source": [
    "Como hemos visto que la cantidad de accidentes fatales y no fatales está muy desbalanceada, vamos a aplicar el método de balanceo undersampling, ya que tener una variable objetivo desbalanceada nos llevaría a predicciones erróneas."
   ]
  },
  {
   "cell_type": "code",
   "execution_count": 43,
   "metadata": {},
   "outputs": [],
   "source": [
    "from imblearn.under_sampling import RandomUnderSampler\n",
    "\n",
    "undersample = RandomUnderSampler()\n",
    "X_over, y_over = undersample.fit_resample(X, y)"
   ]
  },
  {
   "cell_type": "code",
   "execution_count": 44,
   "metadata": {},
   "outputs": [
    {
     "data": {
      "text/plain": [
       "((80814, 15), (26938, 15), (80814,), (26938,))"
      ]
     },
     "execution_count": 44,
     "metadata": {},
     "output_type": "execute_result"
    }
   ],
   "source": [
    "from sklearn.model_selection import train_test_split\n",
    "\n",
    "X_train, X_test, y_train, y_test = train_test_split(X_over, y_over, test_size = 0.25, random_state = 0)\n",
    "X_train.shape, X_test.shape, y_train.shape, y_test.shape"
   ]
  },
  {
   "cell_type": "markdown",
   "metadata": {},
   "source": [
    "### APLICAMOS RANDOM FOREST"
   ]
  },
  {
   "cell_type": "code",
   "execution_count": 45,
   "metadata": {},
   "outputs": [
    {
     "name": "stdout",
     "output_type": "stream",
     "text": [
      "Accuracy:  0.8179894572722548\n"
     ]
    }
   ],
   "source": [
    "from sklearn.ensemble import RandomForestClassifier\n",
    "from sklearn import metrics\n",
    "\n",
    "# Creamos el modelo de Random Forest\n",
    "rf = RandomForestClassifier(n_estimators=100, random_state=0)\n",
    "\n",
    "# Entrenamos el modelo\n",
    "rf.fit(X_train, y_train.ravel())\n",
    "\n",
    "# Hacemos predicciones en los datos de prueba\n",
    "y_pred = rf.predict(X_test)\n",
    "\n",
    "# Evaluamos el rendimiento del modelo\n",
    "acc = metrics.accuracy_score(y_test, y_pred)\n",
    "print('Accuracy: ', acc)"
   ]
  },
  {
   "cell_type": "code",
   "execution_count": 46,
   "metadata": {
    "scrolled": true
   },
   "outputs": [
    {
     "name": "stdout",
     "output_type": "stream",
     "text": [
      "   Variable  Importancia\n",
      "12   P_ISEV     0.208519\n",
      "10    P_AGE     0.159954\n",
      "1    C_CONF     0.137588\n",
      "8    V_YEAR     0.135599\n",
      "6    C_TRAF     0.054194\n",
      "2    C_RCFG     0.042980\n",
      "0    C_VEHS     0.042751\n",
      "13   P_SAFE     0.040449\n",
      "7    V_TYPE     0.036086\n",
      "5    C_RALN     0.033905\n",
      "3    C_WTHR     0.029410\n",
      "4    C_RSUR     0.027923\n",
      "11    P_PSN     0.026477\n",
      "9     P_SEX     0.014618\n",
      "14   P_USER     0.009549\n"
     ]
    }
   ],
   "source": [
    "# Obtenemos la importancia de las variables\n",
    "importances = rf.feature_importances_\n",
    "\n",
    "# Creamos un DataFrame con las variables y sus importancias\n",
    "feature_importances = pd.DataFrame({'Variable': X_train.columns, 'Importancia': importances})\n",
    "\n",
    "# Ordenamos el DataFrame por importancia descendente\n",
    "feature_importances = feature_importances.sort_values('Importancia', ascending=False)\n",
    "\n",
    "# Imprimimos el ranking de importancia de las variables\n",
    "print(feature_importances)"
   ]
  },
  {
   "cell_type": "markdown",
   "metadata": {},
   "source": [
    "Con esto, podemos conluir que las variables que más contribuyen a que haya fallecimientos son:\n",
    "\n",
    "* **P_ISEV**: nos indica si el pasajero ha necesitado o no tratamiento médico. Esto es razonable, ya que una víctima que necesite tratamiento médico es mucho mas probable que fallezca que una que no lo necesita.\n",
    "\n",
    "* **P_AGE**: nos indica la edad de la víctima. Tiene sentido, puesto que la resistencia y la capacidad de recuperación de una persona depende en gran medida de la edad que tenga.\n",
    "\n",
    "* **C_CONF**: nos indica el tipo de colisión. Es razonable puesto que distintos tipos de colisiones conllevas distintos niveles de peligro para los pasajeros.\n",
    "\n",
    "* **V_YEAR**: nos indica el año del vehículo. También tiene sentido, ya que un coche viejo va a tener las medidas de seguridad mas deterioradas, lo que puede llevar a una mayor probabilidad de fallecimiento."
   ]
  },
  {
   "cell_type": "markdown",
   "metadata": {},
   "source": [
    "# CUARTA PARTE:\n",
    "\n",
    "### Dado un accidente, ¿se puede generar un modelo que prediga si habrá fallecimientos o no? ¿Si se va a necesitar tratamiento médico o no? Las aseguradoras tienen que inmovilizar capital para pagar estas casuísticas. \n",
    "\n",
    "Veamos primero que carácterísticas son más importantes a la hora de predecir si habrá fallecimientos o no."
   ]
  },
  {
   "cell_type": "markdown",
   "metadata": {},
   "source": [
    "### 1.  REGRESIÓN LOGÍSTICA"
   ]
  },
  {
   "cell_type": "code",
   "execution_count": 48,
   "metadata": {},
   "outputs": [
    {
     "name": "stdout",
     "output_type": "stream",
     "text": [
      "Accuracy:  0.7272254807335363\n"
     ]
    }
   ],
   "source": [
    "from sklearn.linear_model import LogisticRegression \n",
    "from sklearn.metrics import classification_report\n",
    "\n",
    "# Creamos un clasificador de regresión logística\n",
    "clf = LogisticRegression(max_iter=1000)\n",
    "\n",
    "clf.fit(X_train, y_train)\n",
    "\n",
    "# Hacemos predicciones en los datos de prueba\n",
    "y_pred = clf.predict(X_test)\n",
    "\n",
    "# Evaluamos el rendimiento del modelo\n",
    "acc = metrics.accuracy_score(y_test, y_pred)\n",
    "print('Accuracy: ', acc)"
   ]
  },
  {
   "cell_type": "code",
   "execution_count": 49,
   "metadata": {},
   "outputs": [
    {
     "name": "stdout",
     "output_type": "stream",
     "text": [
      "              precision    recall  f1-score   support\n",
      "\n",
      "           0       0.73      0.72      0.72     13456\n",
      "           1       0.72      0.74      0.73     13482\n",
      "\n",
      "    accuracy                           0.73     26938\n",
      "   macro avg       0.73      0.73      0.73     26938\n",
      "weighted avg       0.73      0.73      0.73     26938\n",
      "\n"
     ]
    }
   ],
   "source": [
    "print(classification_report(y_test, y_pred))"
   ]
  },
  {
   "cell_type": "markdown",
   "metadata": {},
   "source": [
    "### 2. KNN"
   ]
  },
  {
   "cell_type": "code",
   "execution_count": 50,
   "metadata": {},
   "outputs": [
    {
     "name": "stderr",
     "output_type": "stream",
     "text": [
      "C:\\Users\\mariq\\anaconda3\\lib\\site-packages\\sklearn\\neighbors\\_classification.py:228: FutureWarning: Unlike other reduction functions (e.g. `skew`, `kurtosis`), the default behavior of `mode` typically preserves the axis it acts along. In SciPy 1.11.0, this behavior will change: the default value of `keepdims` will become False, the `axis` over which the statistic is taken will be eliminated, and the value None will no longer be accepted. Set `keepdims` to True or False to avoid this warning.\n",
      "  mode, _ = stats.mode(_y[neigh_ind, k], axis=1)\n"
     ]
    },
    {
     "name": "stdout",
     "output_type": "stream",
     "text": [
      "Accuracy:  0.7290815947731829\n"
     ]
    }
   ],
   "source": [
    "from sklearn.neighbors import KNeighborsClassifier\n",
    "\n",
    "# Creamos el modelo KNN\n",
    "knn = KNeighborsClassifier(n_neighbors=3, metric=\"minkowski\")\n",
    "\n",
    "# Entrenamos el modelo\n",
    "knn.fit(X_train, y_train.ravel())\n",
    "\n",
    "# Hacemos predicciones en los datos de prueba\n",
    "y_pred = knn.predict(X_test)\n",
    "\n",
    "# Evaluamos el rendimiento del modelo\n",
    "acc = metrics.accuracy_score(y_test, y_pred)\n",
    "print('Accuracy: ', acc)"
   ]
  },
  {
   "cell_type": "code",
   "execution_count": 51,
   "metadata": {},
   "outputs": [
    {
     "name": "stdout",
     "output_type": "stream",
     "text": [
      "              precision    recall  f1-score   support\n",
      "\n",
      "           0       0.73      0.72      0.73     13456\n",
      "           1       0.72      0.74      0.73     13482\n",
      "\n",
      "    accuracy                           0.73     26938\n",
      "   macro avg       0.73      0.73      0.73     26938\n",
      "weighted avg       0.73      0.73      0.73     26938\n",
      "\n"
     ]
    }
   ],
   "source": [
    "from sklearn.metrics import classification_report\n",
    "\n",
    "print(classification_report(y_test, y_pred))"
   ]
  },
  {
   "cell_type": "markdown",
   "metadata": {},
   "source": [
    "### 3. ÁRBOL DE DECISIÓN"
   ]
  },
  {
   "cell_type": "code",
   "execution_count": 52,
   "metadata": {},
   "outputs": [
    {
     "name": "stdout",
     "output_type": "stream",
     "text": [
      "Accuracy:  0.7626030143292004\n"
     ]
    }
   ],
   "source": [
    "from sklearn.tree import DecisionTreeClassifier\n",
    "from sklearn.metrics import r2_score\n",
    "from sklearn import metrics \n",
    "\n",
    "# Creamos el modelo:\n",
    "arbol = DecisionTreeClassifier(random_state=0,max_depth=50)\n",
    "\n",
    "# Entrenamos el modelo\n",
    "arbol.fit(X_train, y_train)\n",
    "\n",
    "# Hacemos predicciones en los datos de prueba\n",
    "y_pred = arbol.predict(X_test)\n",
    "\n",
    "# Evaluamos el rendimiento del modelo\n",
    "acc = metrics.accuracy_score(y_test, y_pred)\n",
    "print('Accuracy: ', acc)"
   ]
  },
  {
   "cell_type": "code",
   "execution_count": 53,
   "metadata": {},
   "outputs": [
    {
     "name": "stdout",
     "output_type": "stream",
     "text": [
      "              precision    recall  f1-score   support\n",
      "\n",
      "           0       0.76      0.77      0.76     13456\n",
      "           1       0.77      0.75      0.76     13482\n",
      "\n",
      "    accuracy                           0.76     26938\n",
      "   macro avg       0.76      0.76      0.76     26938\n",
      "weighted avg       0.76      0.76      0.76     26938\n",
      "\n"
     ]
    }
   ],
   "source": [
    "print(classification_report(y_test, y_pred))"
   ]
  },
  {
   "cell_type": "markdown",
   "metadata": {},
   "source": [
    "### 4. RANDOM FOREST"
   ]
  },
  {
   "cell_type": "code",
   "execution_count": 54,
   "metadata": {},
   "outputs": [
    {
     "name": "stdout",
     "output_type": "stream",
     "text": [
      "Accuracy:  0.8179894572722548\n"
     ]
    }
   ],
   "source": [
    "from sklearn.ensemble import RandomForestClassifier\n",
    "\n",
    "# Creamos el modelo de Random Forest\n",
    "rf = RandomForestClassifier(n_estimators=100, random_state=0)\n",
    "\n",
    "# Entrenamos el modelo\n",
    "rf.fit(X_train, y_train.ravel())\n",
    "\n",
    "# Hacemos predicciones en los datos de prueba\n",
    "y_pred = rf.predict(X_test)\n",
    "\n",
    "# Evaluamos el rendimiento del modelo\n",
    "acc = metrics.accuracy_score(y_test, y_pred)\n",
    "print('Accuracy: ', acc)"
   ]
  },
  {
   "cell_type": "code",
   "execution_count": 55,
   "metadata": {},
   "outputs": [
    {
     "name": "stdout",
     "output_type": "stream",
     "text": [
      "              precision    recall  f1-score   support\n",
      "\n",
      "           0       0.83      0.80      0.81     13456\n",
      "           1       0.81      0.84      0.82     13482\n",
      "\n",
      "    accuracy                           0.82     26938\n",
      "   macro avg       0.82      0.82      0.82     26938\n",
      "weighted avg       0.82      0.82      0.82     26938\n",
      "\n"
     ]
    }
   ],
   "source": [
    "print(classification_report(y_test, y_pred))"
   ]
  },
  {
   "cell_type": "markdown",
   "metadata": {},
   "source": [
    "### 5. BAGGING"
   ]
  },
  {
   "cell_type": "code",
   "execution_count": 56,
   "metadata": {},
   "outputs": [
    {
     "ename": "TypeError",
     "evalue": "__init__() got an unexpected keyword argument 'estimator'",
     "output_type": "error",
     "traceback": [
      "\u001b[1;31m---------------------------------------------------------------------------\u001b[0m",
      "\u001b[1;31mTypeError\u001b[0m                                 Traceback (most recent call last)",
      "\u001b[1;32m~\\AppData\\Local\\Temp\\ipykernel_35528\\2360708818.py\u001b[0m in \u001b[0;36m<module>\u001b[1;34m\u001b[0m\n\u001b[0;32m      2\u001b[0m \u001b[1;33m\u001b[0m\u001b[0m\n\u001b[0;32m      3\u001b[0m \u001b[1;31m# Creamos el modelo de Bagging con 10 estimadores\u001b[0m\u001b[1;33m\u001b[0m\u001b[1;33m\u001b[0m\u001b[0m\n\u001b[1;32m----> 4\u001b[1;33m \u001b[0mbagging\u001b[0m \u001b[1;33m=\u001b[0m \u001b[0mBaggingClassifier\u001b[0m\u001b[1;33m(\u001b[0m\u001b[0mestimator\u001b[0m\u001b[1;33m=\u001b[0m\u001b[0mDecisionTreeClassifier\u001b[0m\u001b[1;33m(\u001b[0m\u001b[1;33m)\u001b[0m\u001b[1;33m,\u001b[0m \u001b[0mn_estimators\u001b[0m\u001b[1;33m=\u001b[0m\u001b[1;36m10\u001b[0m\u001b[1;33m,\u001b[0m \u001b[0mrandom_state\u001b[0m\u001b[1;33m=\u001b[0m\u001b[1;36m42\u001b[0m\u001b[1;33m)\u001b[0m\u001b[1;33m\u001b[0m\u001b[1;33m\u001b[0m\u001b[0m\n\u001b[0m\u001b[0;32m      5\u001b[0m \u001b[1;33m\u001b[0m\u001b[0m\n\u001b[0;32m      6\u001b[0m \u001b[1;31m# Ajustamos el modelo a los datos de entrenamiento\u001b[0m\u001b[1;33m\u001b[0m\u001b[1;33m\u001b[0m\u001b[0m\n",
      "\u001b[1;31mTypeError\u001b[0m: __init__() got an unexpected keyword argument 'estimator'"
     ]
    }
   ],
   "source": [
    "from sklearn.ensemble import BaggingClassifier\n",
    "\n",
    "# Creamos el modelo de Bagging con 10 estimadores\n",
    "bagging = BaggingClassifier(estimator=DecisionTreeClassifier(), n_estimators=10, random_state=42)\n",
    "\n",
    "# Ajustamos el modelo a los datos de entrenamiento\n",
    "bagging.fit(X_train, y_train.ravel())\n",
    "\n",
    "# Realizamos predicciones sobre el conjunto de prueba\n",
    "y_pred = bagging.predict(X_test)\n",
    "\n",
    "# Evaluamos el rendimiento del modelo\n",
    "acc = metrics.accuracy_score(y_test, y_pred)\n",
    "print('Accuracy: ', acc)"
   ]
  },
  {
   "cell_type": "code",
   "execution_count": 57,
   "metadata": {},
   "outputs": [
    {
     "name": "stdout",
     "output_type": "stream",
     "text": [
      "              precision    recall  f1-score   support\n",
      "\n",
      "           0       0.83      0.80      0.81     13456\n",
      "           1       0.81      0.84      0.82     13482\n",
      "\n",
      "    accuracy                           0.82     26938\n",
      "   macro avg       0.82      0.82      0.82     26938\n",
      "weighted avg       0.82      0.82      0.82     26938\n",
      "\n"
     ]
    }
   ],
   "source": [
    "print(classification_report(y_test, y_pred))"
   ]
  },
  {
   "cell_type": "markdown",
   "metadata": {},
   "source": [
    "### 6. GRADIENT BOOST"
   ]
  },
  {
   "cell_type": "code",
   "execution_count": 58,
   "metadata": {},
   "outputs": [
    {
     "name": "stdout",
     "output_type": "stream",
     "text": [
      "Accuracy:  0.8139060063850323\n"
     ]
    }
   ],
   "source": [
    "from sklearn.ensemble import GradientBoostingClassifier\n",
    "\n",
    "# Creamos el modelo y ajustarlo a los datos de entrenamiento\n",
    "gb = GradientBoostingClassifier()\n",
    "gb.fit(X_train, y_train.ravel())\n",
    "\n",
    "# Realizamos predicciones en el conjunto de prueba\n",
    "y_pred = gb.predict(X_test)\n",
    "\n",
    "# Evaluamos el rendimiento del modelo\n",
    "acc = metrics.accuracy_score(y_test, y_pred)\n",
    "print('Accuracy: ', acc)"
   ]
  },
  {
   "cell_type": "code",
   "execution_count": 59,
   "metadata": {},
   "outputs": [
    {
     "name": "stdout",
     "output_type": "stream",
     "text": [
      "              precision    recall  f1-score   support\n",
      "\n",
      "           0       0.86      0.74      0.80     13456\n",
      "           1       0.78      0.88      0.83     13482\n",
      "\n",
      "    accuracy                           0.81     26938\n",
      "   macro avg       0.82      0.81      0.81     26938\n",
      "weighted avg       0.82      0.81      0.81     26938\n",
      "\n"
     ]
    }
   ],
   "source": [
    "print(classification_report(y_test, y_pred))"
   ]
  },
  {
   "cell_type": "markdown",
   "metadata": {},
   "source": [
    "### 7. XGBoost"
   ]
  },
  {
   "cell_type": "code",
   "execution_count": 62,
   "metadata": {},
   "outputs": [
    {
     "name": "stdout",
     "output_type": "stream",
     "text": [
      "Accuracy:  0.8275298834360383\n"
     ]
    }
   ],
   "source": [
    "import xgboost as xgb\n",
    "\n",
    "# Creamos el objeto del modelo XGBoost\n",
    "xgb_model = xgb.XGBClassifier(objective='binary:logistic', seed=42)\n",
    "\n",
    "# Creamos el objeto LabelEncoder\n",
    "label_encoder = LabelEncoder()\n",
    "\n",
    "# Codificamos las etiquetas de entrenamiento\n",
    "y_train_encoded = label_encoder.fit_transform(y_train)\n",
    "\n",
    "# Entrenamos el modelo con los datos de entrenamiento codificados\n",
    "xgb_model.fit(X_train, y_train_encoded)\n",
    "\n",
    "# Realizamos predicciones en los datos de prueba\n",
    "y_pred_encoded = xgb_model.predict(X_test)\n",
    "\n",
    "# Decodificamos las predicciones\n",
    "y_pred = label_encoder.inverse_transform(y_pred_encoded)\n",
    "\n",
    "# Evaluamos el rendimiento del modelo\n",
    "acc = metrics.accuracy_score(y_test, y_pred)\n",
    "print('Accuracy: ', acc)"
   ]
  },
  {
   "cell_type": "code",
   "execution_count": 63,
   "metadata": {
    "scrolled": true
   },
   "outputs": [
    {
     "name": "stdout",
     "output_type": "stream",
     "text": [
      "              precision    recall  f1-score   support\n",
      "\n",
      "           0       0.86      0.79      0.82     13456\n",
      "           1       0.80      0.87      0.83     13482\n",
      "\n",
      "    accuracy                           0.83     26938\n",
      "   macro avg       0.83      0.83      0.83     26938\n",
      "weighted avg       0.83      0.83      0.83     26938\n",
      "\n"
     ]
    }
   ],
   "source": [
    "print(classification_report(y_test, y_pred))"
   ]
  },
  {
   "cell_type": "markdown",
   "metadata": {},
   "source": [
    "Es el algoritmo que mejores resultados arroja. Veamos la curva ROC y el AUC para establecer conclusiones.\n"
   ]
  },
  {
   "cell_type": "code",
   "execution_count": 64,
   "metadata": {},
   "outputs": [
    {
     "name": "stderr",
     "output_type": "stream",
     "text": [
      "C:\\Users\\mariq\\anaconda3\\lib\\site-packages\\sklearn\\metrics\\_ranking.py:999: UndefinedMetricWarning: No positive samples in y_true, true positive value should be meaningless\n",
      "  warnings.warn(\n"
     ]
    },
    {
     "data": {
      "image/png": "[encoded data removed]",
      "text/plain": [
       "<Figure size 640x480 with 1 Axes>"
      ]
     },
     "metadata": {},
     "output_type": "display_data"
    }
   ],
   "source": [
    "import matplotlib.pyplot as plt\n",
    "from sklearn.metrics import roc_curve, roc_auc_score\n",
    "\n",
    "# Calculamos las probabilidades de predicción para la clase positiva (clase 2)\n",
    "y_pred_proba = xgb_model.predict_proba(X_test)[:, 1]\n",
    "\n",
    "# Calculamos la curva ROC\n",
    "fpr, tpr, thresholds = roc_curve(y_test, y_pred_proba, pos_label=2)\n",
    "\n",
    "# Calculamos el área bajo la curva ROC (AUC)\n",
    "auc = roc_auc_score(y_test, y_pred_proba)\n",
    "\n",
    "# Graficamos la curva ROC\n",
    "plt.plot(fpr, tpr, label='ROC curve (AUC = %0.2f)' % auc)\n",
    "plt.plot([0, 1], [0, 1], 'k--')  # Línea diagonal para referencia\n",
    "plt.xlabel('False Positive Rate')\n",
    "plt.ylabel('True Positive Rate')\n",
    "plt.title('Receiver Operating Characteristic')\n",
    "plt.legend(loc='lower right')\n",
    "plt.show()\n"
   ]
  },
  {
   "cell_type": "markdown",
   "metadata": {},
   "source": [
    "Tras implantar estos algoritmos y validar los resultados que nos ofrecen, concluimos que el que más se adecúa a nuestro modelo es XGBoost, ya que presenta unas métricas mejores que los demás."
   ]
  },
  {
   "cell_type": "markdown",
   "metadata": {},
   "source": [
    "# ¿SE NECESITA TRATAMIENTO MÉDICO O NO?"
   ]
  },
  {
   "cell_type": "markdown",
   "metadata": {},
   "source": [
    "Veamos primero los valores de la variable que indica si el afectado necesitará tratamiento médico o no."
   ]
  },
  {
   "cell_type": "code",
   "execution_count": 65,
   "metadata": {},
   "outputs": [
    {
     "data": {
      "text/plain": [
       "2.0    1856027\n",
       "1.0    1415144\n",
       "3.0      21120\n",
       "Name: P_ISEV, dtype: int64"
      ]
     },
     "execution_count": 65,
     "metadata": {},
     "output_type": "execute_result"
    }
   ],
   "source": [
    "df['P_ISEV'].value_counts()"
   ]
  },
  {
   "cell_type": "markdown",
   "metadata": {},
   "source": [
    "Si miramos en la leyenda, se corresponden a:\n",
    "\n",
    "- **1.0**: Ilesos\n",
    "- **2.0**: Heridos, necesitan tratamiento\n",
    "- **3.0**: Fallecimiento al instante o casi al instante. \n",
    "\n",
    "Observamos que los que pertenecen a la categoría 1 y a la 3 no necesitan tratamiento. Entonces vamos a crear una nueva variable, donde la clase 1 sea la clase en la que no se necesita tratamiento y la 2 en la que sí."
   ]
  },
  {
   "cell_type": "code",
   "execution_count": 66,
   "metadata": {},
   "outputs": [
    {
     "data": {
      "text/plain": [
       "2    1856027\n",
       "1    1436264\n",
       "Name: TRATAMIENTO, dtype: int64"
      ]
     },
     "execution_count": 66,
     "metadata": {},
     "output_type": "execute_result"
    }
   ],
   "source": [
    "df['TRATAMIENTO'] = df['P_ISEV'].apply(lambda x: 1 if x == 1 or x == 3 else 2)\n",
    "df['TRATAMIENTO'].value_counts()"
   ]
  },
  {
   "cell_type": "markdown",
   "metadata": {},
   "source": [
    "Como está balanceado, en este caso no será necesario hacer el undersampling. Como la cantidad de datos es muy elevada, tomaremos una semilla. Ya que, de no hacerlo así, los algoritmos tardarían muco en ejecutar y el coste computacional sería muy elevado. "
   ]
  },
  {
   "cell_type": "code",
   "execution_count": 67,
   "metadata": {},
   "outputs": [],
   "source": [
    "sample_size = 100000\n",
    "\n",
    "random_seed = 42\n",
    "\n",
    "df_sample = df.sample(n=sample_size, random_state=random_seed)\n"
   ]
  },
  {
   "cell_type": "code",
   "execution_count": 68,
   "metadata": {},
   "outputs": [
    {
     "data": {
      "text/plain": [
       "2    56211\n",
       "1    43789\n",
       "Name: TRATAMIENTO, dtype: int64"
      ]
     },
     "execution_count": 68,
     "metadata": {},
     "output_type": "execute_result"
    }
   ],
   "source": [
    "df_sample['TRATAMIENTO'].value_counts()"
   ]
  },
  {
   "cell_type": "markdown",
   "metadata": {},
   "source": [
    "Está balanceado. Partimos el dataset en conjunto de entrenamiento y prueba y repetimos algoritmos."
   ]
  },
  {
   "cell_type": "code",
   "execution_count": 69,
   "metadata": {},
   "outputs": [
    {
     "data": {
      "text/plain": [
       "((75000, 15), (25000, 15), (75000,), (25000,))"
      ]
     },
     "execution_count": 69,
     "metadata": {},
     "output_type": "execute_result"
    }
   ],
   "source": [
    "X = df_sample.drop(['C_DATE', 'P_ISEV', 'C_YEAR','C_MNTH', 'C_WDAY', 'C_HOUR', 'V_ID','P_ID', 'TRATAMIENTO'], axis=1)\n",
    "y = df_sample[\"TRATAMIENTO\"]\n",
    "\n",
    "\n",
    "X_train, X_test, y_train, y_test = train_test_split(X, y , test_size = 0.25, random_state = 0)\n",
    "X_train.shape, X_test.shape, y_train.shape, y_test.shape"
   ]
  },
  {
   "cell_type": "markdown",
   "metadata": {},
   "source": [
    "### 1. REGRESIÓN LOGÍSTICA"
   ]
  },
  {
   "cell_type": "code",
   "execution_count": 70,
   "metadata": {},
   "outputs": [
    {
     "name": "stdout",
     "output_type": "stream",
     "text": [
      "Accuracy:  0.61752\n"
     ]
    }
   ],
   "source": [
    "from sklearn.linear_model import LogisticRegression \n",
    "\n",
    "# Creamos un clasificador de regresión logística\n",
    "clf = LogisticRegression(max_iter=100000)\n",
    "\n",
    "clf.fit(X_train, y_train)\n",
    "\n",
    "# Hacemos las predicciones en los datos de prueba\n",
    "y_pred = clf.predict(X_test)\n",
    "\n",
    "# Evaluamos el rendimiento del modelo\n",
    "acc = metrics.accuracy_score(y_test, y_pred)\n",
    "print('Accuracy: ', acc)"
   ]
  },
  {
   "cell_type": "code",
   "execution_count": 71,
   "metadata": {},
   "outputs": [
    {
     "name": "stdout",
     "output_type": "stream",
     "text": [
      "              precision    recall  f1-score   support\n",
      "\n",
      "           1       0.59      0.45      0.51     11024\n",
      "           2       0.63      0.75      0.69     13976\n",
      "\n",
      "    accuracy                           0.62     25000\n",
      "   macro avg       0.61      0.60      0.60     25000\n",
      "weighted avg       0.61      0.62      0.61     25000\n",
      "\n"
     ]
    }
   ],
   "source": [
    "print(classification_report(y_test, y_pred))"
   ]
  },
  {
   "cell_type": "markdown",
   "metadata": {},
   "source": [
    "### 2. KNN"
   ]
  },
  {
   "cell_type": "code",
   "execution_count": 72,
   "metadata": {},
   "outputs": [
    {
     "name": "stderr",
     "output_type": "stream",
     "text": [
      "C:\\Users\\mariq\\anaconda3\\lib\\site-packages\\sklearn\\neighbors\\_classification.py:228: FutureWarning: Unlike other reduction functions (e.g. `skew`, `kurtosis`), the default behavior of `mode` typically preserves the axis it acts along. In SciPy 1.11.0, this behavior will change: the default value of `keepdims` will become False, the `axis` over which the statistic is taken will be eliminated, and the value None will no longer be accepted. Set `keepdims` to True or False to avoid this warning.\n",
      "  mode, _ = stats.mode(_y[neigh_ind, k], axis=1)\n"
     ]
    },
    {
     "name": "stdout",
     "output_type": "stream",
     "text": [
      "Accuracy:  0.57676\n"
     ]
    }
   ],
   "source": [
    "from sklearn.neighbors import KNeighborsClassifier\n",
    "\n",
    "# Creamos el modelo KNN\n",
    "knn = KNeighborsClassifier(n_neighbors=3, metric=\"minkowski\")\n",
    "\n",
    "# Entrenamos el modelo\n",
    "knn.fit(X_train, y_train.ravel())\n",
    "\n",
    "# Hacemos predicciones en los datos de prueba\n",
    "y_pred = knn.predict(X_test)\n",
    "\n",
    "# Evaluamos el rendimiento del modelo\n",
    "acc = metrics.accuracy_score(y_test, y_pred)\n",
    "print('Accuracy: ', acc)"
   ]
  },
  {
   "cell_type": "code",
   "execution_count": 73,
   "metadata": {},
   "outputs": [
    {
     "name": "stdout",
     "output_type": "stream",
     "text": [
      "              precision    recall  f1-score   support\n",
      "\n",
      "           1       0.52      0.49      0.51     11024\n",
      "           2       0.62      0.64      0.63     13976\n",
      "\n",
      "    accuracy                           0.58     25000\n",
      "   macro avg       0.57      0.57      0.57     25000\n",
      "weighted avg       0.57      0.58      0.58     25000\n",
      "\n"
     ]
    }
   ],
   "source": [
    "print(classification_report(y_test, y_pred))"
   ]
  },
  {
   "cell_type": "markdown",
   "metadata": {},
   "source": [
    "### 3. ÁRBOL DE DECISIÓN\n"
   ]
  },
  {
   "cell_type": "code",
   "execution_count": 74,
   "metadata": {},
   "outputs": [
    {
     "name": "stdout",
     "output_type": "stream",
     "text": [
      "Accuracy:  0.57596\n"
     ]
    }
   ],
   "source": [
    "from sklearn.tree import DecisionTreeClassifier\n",
    "from sklearn.metrics import r2_score\n",
    "from sklearn import metrics \n",
    "\n",
    "# Creamos el modelo \n",
    "arbol = DecisionTreeClassifier(random_state=0,max_depth=50)\n",
    "\n",
    "# Entrenamos el modelo\n",
    "arbol.fit(X_train, y_train)\n",
    "\n",
    "# Hacemos predicciones en los datos de prueba\n",
    "y_pred = arbol.predict(X_test)\n",
    "\n",
    "# Evaluamos el rendimiento del modelo\n",
    "acc = metrics.accuracy_score(y_test, y_pred)\n",
    "print('Accuracy: ', acc)"
   ]
  },
  {
   "cell_type": "code",
   "execution_count": 75,
   "metadata": {},
   "outputs": [
    {
     "name": "stdout",
     "output_type": "stream",
     "text": [
      "              precision    recall  f1-score   support\n",
      "\n",
      "           1       0.52      0.53      0.52     11024\n",
      "           2       0.62      0.61      0.62     13976\n",
      "\n",
      "    accuracy                           0.58     25000\n",
      "   macro avg       0.57      0.57      0.57     25000\n",
      "weighted avg       0.58      0.58      0.58     25000\n",
      "\n"
     ]
    }
   ],
   "source": [
    "print(classification_report(y_test, y_pred))"
   ]
  },
  {
   "cell_type": "markdown",
   "metadata": {},
   "source": [
    "### 4. RANDOM FOREST"
   ]
  },
  {
   "cell_type": "code",
   "execution_count": 76,
   "metadata": {},
   "outputs": [
    {
     "name": "stdout",
     "output_type": "stream",
     "text": [
      "Accuracy:  0.62344\n"
     ]
    }
   ],
   "source": [
    "from sklearn.ensemble import RandomForestClassifier\n",
    "\n",
    "# Creamos el modelo de Random Forest\n",
    "rf = RandomForestClassifier(n_estimators=100, random_state=0)\n",
    "\n",
    "# Entrenamos el modelo\n",
    "rf.fit(X_train, y_train.ravel())\n",
    "\n",
    "# Hacemos predicciones en los datos de prueba\n",
    "y_pred = rf.predict(X_test)\n",
    "\n",
    "# Evaluamos el rendimiento del modelo\n",
    "acc = metrics.accuracy_score(y_test, y_pred)\n",
    "print('Accuracy: ', acc)"
   ]
  },
  {
   "cell_type": "code",
   "execution_count": 77,
   "metadata": {},
   "outputs": [
    {
     "name": "stdout",
     "output_type": "stream",
     "text": [
      "              precision    recall  f1-score   support\n",
      "\n",
      "           1       0.58      0.54      0.56     11024\n",
      "           2       0.65      0.69      0.67     13976\n",
      "\n",
      "    accuracy                           0.62     25000\n",
      "   macro avg       0.62      0.61      0.61     25000\n",
      "weighted avg       0.62      0.62      0.62     25000\n",
      "\n"
     ]
    }
   ],
   "source": [
    "print(classification_report(y_test, y_pred))"
   ]
  },
  {
   "cell_type": "markdown",
   "metadata": {},
   "source": [
    "### 5. BAGGING"
   ]
  },
  {
   "cell_type": "code",
   "execution_count": 78,
   "metadata": {},
   "outputs": [
    {
     "ename": "TypeError",
     "evalue": "__init__() got an unexpected keyword argument 'estimator'",
     "output_type": "error",
     "traceback": [
      "\u001b[1;31m---------------------------------------------------------------------------\u001b[0m",
      "\u001b[1;31mTypeError\u001b[0m                                 Traceback (most recent call last)",
      "\u001b[1;32m~\\AppData\\Local\\Temp\\ipykernel_35528\\2360708818.py\u001b[0m in \u001b[0;36m<module>\u001b[1;34m\u001b[0m\n\u001b[0;32m      2\u001b[0m \u001b[1;33m\u001b[0m\u001b[0m\n\u001b[0;32m      3\u001b[0m \u001b[1;31m# Creamos el modelo de Bagging con 10 estimadores\u001b[0m\u001b[1;33m\u001b[0m\u001b[1;33m\u001b[0m\u001b[0m\n\u001b[1;32m----> 4\u001b[1;33m \u001b[0mbagging\u001b[0m \u001b[1;33m=\u001b[0m \u001b[0mBaggingClassifier\u001b[0m\u001b[1;33m(\u001b[0m\u001b[0mestimator\u001b[0m\u001b[1;33m=\u001b[0m\u001b[0mDecisionTreeClassifier\u001b[0m\u001b[1;33m(\u001b[0m\u001b[1;33m)\u001b[0m\u001b[1;33m,\u001b[0m \u001b[0mn_estimators\u001b[0m\u001b[1;33m=\u001b[0m\u001b[1;36m10\u001b[0m\u001b[1;33m,\u001b[0m \u001b[0mrandom_state\u001b[0m\u001b[1;33m=\u001b[0m\u001b[1;36m42\u001b[0m\u001b[1;33m)\u001b[0m\u001b[1;33m\u001b[0m\u001b[1;33m\u001b[0m\u001b[0m\n\u001b[0m\u001b[0;32m      5\u001b[0m \u001b[1;33m\u001b[0m\u001b[0m\n\u001b[0;32m      6\u001b[0m \u001b[1;31m# Ajustamos el modelo a los datos de entrenamiento\u001b[0m\u001b[1;33m\u001b[0m\u001b[1;33m\u001b[0m\u001b[0m\n",
      "\u001b[1;31mTypeError\u001b[0m: __init__() got an unexpected keyword argument 'estimator'"
     ]
    }
   ],
   "source": [
    "from sklearn.ensemble import BaggingClassifier\n",
    "\n",
    "# Creamos el modelo de Bagging con 10 estimadores\n",
    "bagging = BaggingClassifier(estimator=DecisionTreeClassifier(), n_estimators=10, random_state=42)\n",
    "\n",
    "# Ajustamos el modelo a los datos de entrenamiento\n",
    "bagging.fit(X_train, y_train.ravel())\n",
    "\n",
    "# Realizamos predicciones sobre el conjunto de prueba\n",
    "y_pred = bagging.predict(X_test)\n",
    "\n",
    "# Evaluamos el rendimiento del modelo\n",
    "acc = metrics.accuracy_score(y_test, y_pred)\n",
    "print('Accuracy: ', acc)"
   ]
  },
  {
   "cell_type": "code",
   "execution_count": 79,
   "metadata": {},
   "outputs": [
    {
     "name": "stdout",
     "output_type": "stream",
     "text": [
      "              precision    recall  f1-score   support\n",
      "\n",
      "           1       0.58      0.54      0.56     11024\n",
      "           2       0.65      0.69      0.67     13976\n",
      "\n",
      "    accuracy                           0.62     25000\n",
      "   macro avg       0.62      0.61      0.61     25000\n",
      "weighted avg       0.62      0.62      0.62     25000\n",
      "\n"
     ]
    }
   ],
   "source": [
    "print(classification_report(y_test, y_pred))"
   ]
  },
  {
   "cell_type": "markdown",
   "metadata": {},
   "source": [
    "### 6. GRADIENT BOOST"
   ]
  },
  {
   "cell_type": "code",
   "execution_count": 80,
   "metadata": {},
   "outputs": [
    {
     "name": "stdout",
     "output_type": "stream",
     "text": [
      "Accuracy:  0.65576\n"
     ]
    }
   ],
   "source": [
    "from sklearn.ensemble import GradientBoostingClassifier\n",
    "\n",
    "# Creamos el modelo y lo ajustamos a los datos de entrenamiento\n",
    "gb = GradientBoostingClassifier()\n",
    "gb.fit(X_train, y_train.ravel())\n",
    "\n",
    "# Realizamos predicciones en el conjunto de prueba\n",
    "y_pred = gb.predict(X_test)\n",
    "\n",
    "# Evaluamos el rendimiento del modelo\n",
    "acc = metrics.accuracy_score(y_test, y_pred)\n",
    "print('Accuracy: ', acc)"
   ]
  },
  {
   "cell_type": "code",
   "execution_count": 81,
   "metadata": {},
   "outputs": [
    {
     "name": "stdout",
     "output_type": "stream",
     "text": [
      "              precision    recall  f1-score   support\n",
      "\n",
      "           1       0.62      0.58      0.60     11024\n",
      "           2       0.68      0.72      0.70     13976\n",
      "\n",
      "    accuracy                           0.66     25000\n",
      "   macro avg       0.65      0.65      0.65     25000\n",
      "weighted avg       0.65      0.66      0.65     25000\n",
      "\n"
     ]
    }
   ],
   "source": [
    "print(classification_report(y_test, y_pred))"
   ]
  },
  {
   "cell_type": "markdown",
   "metadata": {},
   "source": [
    "### 7. XGBoost"
   ]
  },
  {
   "cell_type": "code",
   "execution_count": 82,
   "metadata": {},
   "outputs": [
    {
     "name": "stdout",
     "output_type": "stream",
     "text": [
      "Accuracy:  0.65812\n"
     ]
    }
   ],
   "source": [
    "import xgboost as xgb\n",
    "from sklearn import preprocessing, metrics\n",
    "\n",
    "# Codificamos las etiquetas de clase\n",
    "label_encoder = preprocessing.LabelEncoder()\n",
    "y_train_encoded = label_encoder.fit_transform(y_train)\n",
    "y_test_encoded = label_encoder.transform(y_test)\n",
    "\n",
    "# Crear el objeto del modelo XGBoost para clasificación multiclase\n",
    "xgb_model = xgb.XGBClassifier(objective='multi:softmax', num_class=3, seed=42)\n",
    "\n",
    "# Entrenamos el modelo con los datos de entrenamiento codificados\n",
    "xgb_model.fit(X_train, y_train_encoded)\n",
    "\n",
    "# Realizamos predicciones en los datos de prueba\n",
    "y_pred_encoded = xgb_model.predict(X_test)\n",
    "\n",
    "# Decodificamos las predicciones\n",
    "y_pred = label_encoder.inverse_transform(y_pred_encoded)\n",
    "\n",
    "# Evaluamos el rendimiento del modelo\n",
    "acc = metrics.accuracy_score(y_test, y_pred)\n",
    "print('Accuracy: ', acc)"
   ]
  },
  {
   "cell_type": "code",
   "execution_count": 83,
   "metadata": {},
   "outputs": [
    {
     "name": "stdout",
     "output_type": "stream",
     "text": [
      "              precision    recall  f1-score   support\n",
      "\n",
      "           1       0.62      0.57      0.60     11024\n",
      "           2       0.68      0.73      0.70     13976\n",
      "\n",
      "    accuracy                           0.66     25000\n",
      "   macro avg       0.65      0.65      0.65     25000\n",
      "weighted avg       0.66      0.66      0.66     25000\n",
      "\n"
     ]
    }
   ],
   "source": [
    "print(classification_report(y_test, y_pred))"
   ]
  },
  {
   "cell_type": "markdown",
   "metadata": {},
   "source": [
    "### HACER UNAS BUENAS CONCLUSIONES DEL TRABAJO"
   ]
  },
  {
   "cell_type": "code",
   "execution_count": 84,
   "metadata": {},
   "outputs": [
    {
     "data": {
      "image/png": "[encoded data removed]",
      "text/plain": [
       "<Figure size 640x480 with 1 Axes>"
      ]
     },
     "metadata": {},
     "output_type": "display_data"
    }
   ],
   "source": [
    "import matplotlib.pyplot as plt\n",
    "from sklearn.metrics import roc_curve, roc_auc_score\n",
    "\n",
    "# Calculamos las probabilidades de predicción para la clase positiva (clase 2)\n",
    "y_pred_proba = xgb_model.predict_proba(X_test)[:, 1]\n",
    "\n",
    "# Calculamos la curva ROC\n",
    "fpr, tpr, thresholds = roc_curve(y_test, y_pred_proba, pos_label=2)\n",
    "\n",
    "# Calculamos el área bajo la curva ROC (AUC)\n",
    "auc = roc_auc_score(y_test, y_pred_proba)\n",
    "\n",
    "# Graficamos la curva ROC\n",
    "plt.plot(fpr, tpr, label='ROC curve (AUC = %0.2f)' % auc)\n",
    "plt.plot([0, 1], [0, 1], 'k--')  # Línea diagonal para referencia\n",
    "plt.xlabel('False Positive Rate')\n",
    "plt.ylabel('True Positive Rate')\n",
    "plt.title('Receiver Operating Characteristic')\n",
    "plt.legend(loc='lower right')\n",
    "plt.show()"
   ]
  },
  {
   "cell_type": "markdown",
   "metadata": {},
   "source": [
    "De nuevo, concluimos que el mejor modelo es el que nos proporciona XGBoost"
   ]
  },
  {
   "cell_type": "markdown",
   "metadata": {},
   "source": [
    "# CONCLUSIONES\n",
    "\n",
    "* El número de colisiones ha descendido ligeramente a lo largo de los años, al igual que las víctimas mortales. Esto puede estar explicado por la mejora de la sanidad y del estado de las carreteras.\n",
    "\n",
    "* El mayor número de colisiones corresponde a los vehículos de entre 5 y 12 años y a las personas de entre 16 y 30 años. Siendo en ambos casos el vehículo predominante el de uso personal.\n",
    "\n",
    "* El menor número de colisiones corresponde a los conductores de avanzada edad con coches de más de 12 años. Esto puede deberse a que abundan menos en las carreteras\n",
    "\n",
    "* La variables que más influyen en los fallecimientos de las victimas son: la edad de la víctima, la edad del coche, el tipo de colision y si el paciente ha necesitado tratamiento médico.\n",
    "\n",
    "* El modelo que mejor se ajusta a nuestros datos para predecir los fallecimientos es XGBoost\n",
    "\n",
    "* El modelo que mejor se ajusta a nuestros datos para predecir la nacesidad de tratamiento médico es también el XGBoost."
   ]
  }
 ],
 "metadata": {
  "kernelspec": {
   "display_name": "Python 3",
   "language": "python",
   "name": "python3"
  },
  "language_info": {
   "codemirror_mode": {
    "name": "ipython",
    "version": 3
   },
   "file_extension": ".py",
   "mimetype": "text/x-python",
   "name": "python",
   "nbconvert_exporter": "python",
   "pygments_lexer": "ipython3",
   "version": "3.7.4"
  }
 },
 "nbformat": 4,
 "nbformat_minor": 5
}
